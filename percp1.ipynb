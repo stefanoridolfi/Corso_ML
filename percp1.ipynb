{
  "nbformat": 4,
  "nbformat_minor": 0,
  "metadata": {
    "colab": {
      "name": "Untitled0.ipynb",
      "provenance": [],
      "collapsed_sections": [],
      "include_colab_link": true
    },
    "kernelspec": {
      "name": "python3",
      "display_name": "Python 3"
    }
  },
  "cells": [
    {
      "cell_type": "markdown",
      "metadata": {
        "id": "view-in-github",
        "colab_type": "text"
      },
      "source": [
        "<a href=\"https://colab.research.google.com/github/stefanoridolfi/Corso_ML/blob/master/percp1.ipynb\" target=\"_parent\"><img src=\"https://colab.research.google.com/assets/colab-badge.svg\" alt=\"Open In Colab\"/></a>"
      ]
    },
    {
      "cell_type": "markdown",
      "metadata": {
        "id": "5idaZILLpzL_",
        "colab_type": "text"
      },
      "source": [
        "#1)Generatore di retta"
      ]
    },
    {
      "cell_type": "markdown",
      "metadata": {
        "id": "siuyyFCiqshQ",
        "colab_type": "text"
      },
      "source": [
        "#2)Genera i punti x ed y e stampa la retta\n",
        "Il codice genera 500 valori di x, nell'intervallo da -250 a 250 e calcola i relativi y. Inserisce i valori di x e di y in due diverse liste, lx ed ly. Il calcolo dei valori y è eseguito utilizzando la funzione GenRetta precedente.\n"
      ]
    },
    {
      "cell_type": "markdown",
      "metadata": {
        "id": "v6KBzHZV10vj",
        "colab_type": "text"
      },
      "source": [
        "#3)Genera n punti random con valori compresi fra -250 e 250\n",
        "La funzione genera n punti con coordinate x ed y che hanno valori casuali compresi fra -250 e 250. La funzione ritorna la lista l che è formata da n liste, ognuna delle quali contiene due elementi, i valori della coppia x ed y che sono le coordinate dei punti.\n"
      ]
    },
    {
      "cell_type": "markdown",
      "metadata": {
        "id": "JA0KhAau60tb",
        "colab_type": "text"
      },
      "source": [
        "#4)Disegno la retta, genero punti, coloro i punti a seconda della posizione\n",
        "Con la funzione definita prima disegno la retta di riferimento. Con la funzione di generazione dei punti creo n punti in modo casuale. A seconda del valore della y del punto decido se il punto è posizionato sopra oppure sotto la retta.\n",
        "Se il punto è sopra la retta lo coloro di verde, se il punto è sotto la retta lo coloro di rosso "
      ]
    },
    {
      "cell_type": "markdown",
      "metadata": {
        "id": "d20jJFabk-IE",
        "colab_type": "text"
      },
      "source": [
        "#5)Definisco una funzione che genera casualmente i pesi.\n",
        "La funzione genera i valori dei pesi che dovranno essere associati agli input del perceptron. I pesi hanno valori compresi fra -1 ed 1.I La funzioni ha come input il numero di input del perceptron, n è il parametro della funzione. La funzione restituisce una lista di pesi, con dimensione pari al numero di input."
      ]
    },
    {
      "cell_type": "markdown",
      "metadata": {
        "id": "nTeGyPEwod8v",
        "colab_type": "text"
      },
      "source": [
        "5.1)Test della funzione pesi"
      ]
    },
    {
      "cell_type": "markdown",
      "metadata": {
        "id": "M4lONBlbo8ST",
        "colab_type": "text"
      },
      "source": [
        "#7) Definisco la funzione posizione\n",
        "La funzione ha come input le coordinate del punto e mi restituisce il valore 1 o -1 a seconda che il punto sia sopra oppure sotto la retta di riferimento"
      ]
    },
    {
      "cell_type": "markdown",
      "metadata": {
        "id": "WsF80kPPe70Y",
        "colab_type": "text"
      },
      "source": [
        "# 8)Definisco la funzione back propagation\n",
        "La funzione back propagation ha come parametri di input la lista che contiene le coordinate del punto. La funzione calcola anche il valore corretto per quel punto, la sua posizione usando la funzione posizione. L'output desiderato è il valore 1 o -1 a seconda di dove si trova il punto rispetto alla retta iniziale secondo la quale devo effettuare la classificazione dei punti. Come output la funzione restituisce    restituisce i valori dei pesi, ovvero la lista dei pesi e se la previsione era esatta oppure no. Restitisce il valore 0 se non era un'errore , 1 altrimenti. Ovvero il vaoore 0 se il valore fornito dalla funzione guess coincide o no con il valore reale"
      ]
    },
    {
      "cell_type": "markdown",
      "metadata": {
        "id": "1IDcsPPrpNXE",
        "colab_type": "text"
      },
      "source": [
        ""
      ]
    },
    {
      "cell_type": "markdown",
      "metadata": {
        "id": "z7vw6byAyTk6",
        "colab_type": "text"
      },
      "source": [
        "#XXX) Programma fino a questo punto\n",
        "a) Disegno la retta (punto 1 del foglio)  , ovvero la retta di equazione y=0.5*x+10: che è la retta 0.5x-y+10 =0\n",
        "\n",
        "b) Creo lista punti con coordinate casuali (punto 3 del foglio)\n",
        "\n",
        "c) Creo la lista dei pesi (punto 5 del foglio)\n",
        "\n",
        "d) Per ogni punto generato casualmente calcolo la funzione feed_forward (punto 6 del foglio)\n",
        "\n",
        "e) Disegno il punto generato casualmente e lo coloro. Se la funzione feed_forward mi restituisce il valore 1 assumo che il punto casuale sia sopra la retta ipotetica di separazione e lo coloro di verde. Se mi restituisce il valore -1 assumo che il punto casuale sia sotto la retta ipotetica di separazione e lo coloro di rosso.\n",
        "\n",
        "\n",
        "\n"
      ]
    },
    {
      "cell_type": "code",
      "metadata": {
        "id": "bTp3ZQUy7SLK",
        "colab_type": "code",
        "outputId": "470058af-13d8-47ff-969c-6fc6f3ec9942",
        "colab": {
          "base_uri": "https://localhost:8080/",
          "height": 1000
        }
      },
      "source": [
        "# Funzione che crea lista punti casuali\n",
        "import random\n",
        "def generaPunti(n):\n",
        "  l=[]\n",
        "  for i in range(0,n):\n",
        "    x=random.random()*500-251\n",
        "    y=random.random()*500-251\n",
        "    l.append([x,y])\n",
        "  return l\n",
        "\n",
        "\n",
        "#Funzione che calcola i valori di y della retta di equazione  y=0.5*x+10\n",
        "def GenRetta(x):\n",
        "  y=0.5*x+10\n",
        "  return y\n",
        "\n",
        "\n",
        "\n",
        "\n",
        "# Funzione lista pesi\n",
        "def pesi(num_input):\n",
        "  import random\n",
        "  pesi=[]\n",
        "  for x in range(0,num_input+1):\n",
        "      valore_peso=random.random()*2-1\n",
        "      pesi.append(valore_peso)\n",
        "  return pesi\n",
        "\n",
        "# Funzione feed_forward\n",
        "def feed_forward(inputs,lista_pesi_infun):\n",
        "  BIAS=1\n",
        "  somma_funct=0\n",
        "  for k in range(1,len(lista_pesi_infun)):\n",
        "    somma_funct=somma_funct+lista_pesi[k]*inputs[k-1]\n",
        "  # il primo elemento della lista_pesi è il peso del BIAS per questo k va da 1, secondo elemento della lista_pesi\n",
        "  somma_funct=somma_funct+BIAS*lista_pesi[0]\n",
        "  answer=-1\n",
        "  if  somma_funct>0:\n",
        "    answer=1\n",
        "  return (answer,somma_funct)\n",
        "\n",
        "  # Funzione posizione reale del punti rispetto alla retta di riferimento\n",
        "def posiz(inputs):\n",
        "  answer=-1\n",
        "  if inputs[1]>GenRetta(inputs[0]):\n",
        "    answer=1\n",
        "  return answer\n",
        "# \n",
        "#############################################################\n",
        "# Disegno la retta reale\n",
        "import matplotlib.pyplot as pl\n",
        "lx=[]\n",
        "ly=[]\n",
        "for x in range(-250,251):\n",
        "  y=GenRetta(x)\n",
        "  lx.append(x)\n",
        "  ly.append(y)\n",
        "pl.plot(lx,ly)\n",
        "pl.grid(True)\n",
        "#pl.show()\n",
        "\n",
        "\n",
        "\n",
        "############################################################\n",
        "###########################################################################\n",
        "#Genero lista iniziale dei pesi\n",
        "lista_pesi=pesi(2)\n",
        "\n",
        "\n",
        "#Genero lista dei  punti casuali\n",
        "\n",
        "#print(\"lista punti generati=  \", lista_punti, \"\\n\")\n",
        "speed=0.05\n",
        "BIAS=1\n",
        "\n",
        "#Ad ogni punto della lista dei punti casuali applico la funzione feed_forward\n",
        "#print(\"test feed=  \",feed_forward([10,10]))\n",
        "\n",
        "lista_punti=generaPunti(10)\n",
        "for iter in range(0,30):\n",
        "  #lista_punti=generaPunti(1000)\n",
        "  #print(\"iterazione N.  \", iter, \"errori=\", errori)\n",
        "  errori=0\n",
        "  for punto in lista_punti:\n",
        "    somma=0\n",
        "    posizione_reale=posiz(punto)\n",
        "    #print(\"posizione reale del punto  = \",posizione_reale)\n",
        "    # guess assumerà il valore 1 o -1 dalla funzione di attivazione basata sul valore della somma\n",
        "    somma=lista_pesi[1]*punto[0]+lista_pesi[2]*punto[1]+lista_pesi[0]*BIAS\n",
        "    guess=-1\n",
        "    if  somma>0:\n",
        "      guess=1\n",
        "    valore_errore=int(posizione_reale) - int(guess)\n",
        "    if valore_errore!=0:\n",
        "      errori=errori+1\n",
        "    # Nuova lista pesi   \n",
        "    lista_pesi[1]=lista_pesi[1]+lista_pesi[1]*valore_errore*speed\n",
        "    lista_pesi[2]=lista_pesi[2]+lista_pesi[2]*valore_errore*speed\n",
        "    lista_pesi[0]=lista_pesi[0]+lista_pesi[0]*valore_errore*speed\n",
        "  print(\"iterazione N.  \", iter, \"errori=\", errori)\n",
        "  print(\"lista pesi\", lista_pesi)\n",
        "\n",
        "   \n",
        "# \n",
        "# Disegniamo i punti della nostra lista in rosso se si trovano al di\n",
        "# sotto della retta e in verde se si trovano al disopra\n",
        "for punto in lista_punti:\n",
        "    y_linea=GenRetta(punto[0])\n",
        "    if punto[1] > y_linea:\n",
        "        formato = 'go'\n",
        "    else:\n",
        "        formato = 'ro'\n",
        "    pl.plot(punto[0],punto[1],formato)\n",
        "\n",
        "pl.show()\n",
        "# disegno la retta i cui coefficienti sono i pesi + il BIAS\n",
        "import matplotlib.pyplot as pl\n",
        "llx=[]\n",
        "lly=[]\n",
        "for x in range(-250,251):\n",
        "  y=(-lista_pesi[0]-lista_pesi[1]*x)/lista_pesi[2]\n",
        "  llx.append(x)\n",
        "  lly.append(y)\n",
        "pl.plot(llx,lly)\n",
        "# Disegno punti secondo la classificazione della retta reale\n",
        "for punto in lista_punti:\n",
        "    y_linea=GenRetta(punto[0])\n",
        "    if punto[1] > y_linea:\n",
        "        formato = 'go'\n",
        "    else:\n",
        "        formato = 'ro'\n",
        "    pl.plot(punto[0],punto[1],formato)\n",
        "\n",
        "pl.show()\n",
        "print(\"Coeff. retta m e q \",-lista_pesi[1]/lista_pesi[2], -lista_pesi[0]/lista_pesi[2])\n",
        "print(\"Lista pesi finale\",lista_pesi)\n",
        "\n"
      ],
      "execution_count": 64,
      "outputs": [
        {
          "output_type": "stream",
          "text": [
            "iterazione N.   0 errori= 2\n",
            "lista pesi [-0.47081252281086433, -0.9067716322626695, 0.4379418240030949]\n",
            "iterazione N.   1 errori= 2\n",
            "lista pesi [-0.4661043975827557, -0.8977039159400428, 0.433562405763064]\n",
            "iterazione N.   2 errori= 2\n",
            "lista pesi [-0.4614433536069282, -0.8887268767806423, 0.4292267817054333]\n",
            "iterazione N.   3 errori= 2\n",
            "lista pesi [-0.45682892007085885, -0.8798396080128359, 0.424934513888379]\n",
            "iterazione N.   4 errori= 2\n",
            "lista pesi [-0.4522606308701502, -0.8710412119327076, 0.42068516874949524]\n",
            "iterazione N.   5 errori= 2\n",
            "lista pesi [-0.44773802456144873, -0.8623307998133806, 0.4164783170620003]\n",
            "iterazione N.   6 errori= 2\n",
            "lista pesi [-0.44326064431583423, -0.8537074918152467, 0.41231353389138026]\n",
            "iterazione N.   7 errori= 2\n",
            "lista pesi [-0.4388280378726759, -0.8451704168970943, 0.40819039855246647]\n",
            "iterazione N.   8 errori= 2\n",
            "lista pesi [-0.43443975749394914, -0.8367187127281233, 0.4041084945669418]\n",
            "iterazione N.   9 errori= 2\n",
            "lista pesi [-0.43009535991900966, -0.828351525600842, 0.4000674096212724]\n",
            "iterazione N.   10 errori= 2\n",
            "lista pesi [-0.4257944063198196, -0.8200680103448337, 0.39606673552505967]\n",
            "iterazione N.   11 errori= 2\n",
            "lista pesi [-0.42153646225662134, -0.8118673302413854, 0.3921060681698091]\n",
            "iterazione N.   12 errori= 2\n",
            "lista pesi [-0.4173210976340551, -0.8037486569389716, 0.388185007488111]\n",
            "iterazione N.   13 errori= 2\n",
            "lista pesi [-0.41314788665771457, -0.7957111703695818, 0.3843031574132299]\n",
            "iterazione N.   14 errori= 2\n",
            "lista pesi [-0.40901640779113746, -0.787754058665886, 0.3804601258390976]\n",
            "iterazione N.   15 errori= 2\n",
            "lista pesi [-0.40492624371322605, -0.7798765180792271, 0.3766555245807066]\n",
            "iterazione N.   16 errori= 2\n",
            "lista pesi [-0.4008769812760938, -0.7720777528984348, 0.37288896933489957]\n",
            "iterazione N.   17 errori= 2\n",
            "lista pesi [-0.39686821146333284, -0.7643569753694505, 0.36916007964155056]\n",
            "iterazione N.   18 errori= 2\n",
            "lista pesi [-0.3928995293486995, -0.756713405615756, 0.36546847884513506]\n",
            "iterazione N.   19 errori= 2\n",
            "lista pesi [-0.38897053405521254, -0.7491462715595983, 0.3618137940566837]\n",
            "iterazione N.   20 errori= 2\n",
            "lista pesi [-0.38508082871466043, -0.7416548088440024, 0.3581956561161168]\n",
            "iterazione N.   21 errori= 2\n",
            "lista pesi [-0.38123002042751386, -0.7342382607555623, 0.35461369955495564]\n",
            "iterazione N.   22 errori= 2\n",
            "lista pesi [-0.3774177202232387, -0.7268958781480066, 0.3510675625594061]\n",
            "iterazione N.   23 errori= 2\n",
            "lista pesi [-0.37364354302100633, -0.7196269193665265, 0.34755688693381204]\n",
            "iterazione N.   24 errori= 2\n",
            "lista pesi [-0.36990710759079626, -0.7124306501728611, 0.3440813180644739]\n",
            "iterazione N.   25 errori= 2\n",
            "lista pesi [-0.3662080365148883, -0.7053063436711324, 0.34064050488382913]\n",
            "iterazione N.   26 errori= 2\n",
            "lista pesi [-0.36254595614973945, -0.6982532802344211, 0.3372340998349908]\n",
            "iterazione N.   27 errori= 2\n",
            "lista pesi [-0.35892049658824204, -0.691270747432077, 0.33386175883664093]\n",
            "iterazione N.   28 errori= 2\n",
            "lista pesi [-0.3553312916223596, -0.6843580399577561, 0.33052314124827453]\n",
            "iterazione N.   29 errori= 2\n",
            "lista pesi [-0.351777978706136, -0.6775144595581786, 0.3272179098357918]\n"
          ],
          "name": "stdout"
        },
        {
          "output_type": "display_data",
          "data": {
            "image/png": "[encoded data removed]",
            "text/plain": [
              "<Figure size 432x288 with 1 Axes>"
            ]
          },
          "metadata": {
            "tags": []
          }
        },
        {
          "output_type": "display_data",
          "data": {
            "image/png": "[encoded data removed]",
            "text/plain": [
              "<Figure size 432x288 with 1 Axes>"
            ]
          },
          "metadata": {
            "tags": []
          }
        },
        {
          "output_type": "stream",
          "text": [
            "Coeff. retta m e q  2.070529879914509 1.075057226796263\n",
            "Lista pesi finale [-0.351777978706136, -0.6775144595581786, 0.3272179098357918]\n"
          ],
          "name": "stdout"
        }
      ]
    }
  ]
}