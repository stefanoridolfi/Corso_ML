{
  "nbformat": 4,
  "nbformat_minor": 0,
  "metadata": {
    "colab": {
      "name": "SecondaLezione.ipynb",
      "version": "0.3.2",
      "provenance": [],
      "private_outputs": true,
      "collapsed_sections": [],
      "include_colab_link": true
    },
    "kernelspec": {
      "name": "python3",
      "display_name": "Python 3"
    }
  },
  "cells": [
    {
      "cell_type": "markdown",
      "metadata": {
        "id": "view-in-github",
        "colab_type": "text"
      },
      "source": [
        "<a href=\"https://colab.research.google.com/github/spaziochirale/CorsoPythonML/blob/master/SecondaLezione.ipynb\" target=\"_parent\"><img src=\"https://colab.research.google.com/assets/colab-badge.svg\" alt=\"Open In Colab\"/></a>"
      ]
    },
    {
      "metadata": {
        "id": "XIXv5ulYn1JE",
        "colab_type": "text"
      },
      "cell_type": "markdown",
      "source": [
        "# Corso di Coding in Linguaggio Python & Machine Learning\n",
        "## Seconda Lezione\n",
        "\n",
        "\n",
        "\n"
      ]
    },
    {
      "metadata": {
        "id": "IBYH2RgPnVS7",
        "colab_type": "text"
      },
      "cell_type": "markdown",
      "source": [
        "# Il controllo del flusso del programma"
      ]
    },
    {
      "metadata": {
        "id": "rkxoreaKoj6V",
        "colab_type": "text"
      },
      "cell_type": "markdown",
      "source": [
        "Come in tutti i linguaggi di programmazione, anche in Python esistono istruzioni specifiche per controllare il flusso del programma. La prima istruzione che abbiamo già visto nella lezione introduttiva è il controllo condizionato all'esecuzione di un test. L'istruzione è nota come: **IF ... THEN ... ELSE**\n",
        "\n",
        "In Python la clausola è leggermente più raffinata ed ha la struttura: **if ... elif... else**. Attraverso la clausola ***elif*** possiamo evitare di annidare e indentare in modo eccessivo ulteriori costrutti *if-then-else* nel ramo *else* dei nostri programmi.\n",
        "\n",
        "Ecco un esempio di diramazione condizionale che fa uso della ***elif***."
      ]
    },
    {
      "metadata": {
        "id": "sEpQeKsLqA-p",
        "colab_type": "code",
        "colab": {}
      },
      "cell_type": "code",
      "source": [
        "print(\"Cercherò di stabilire qual'è la tua condizione anagrafica.\")\n",
        "anni = eval(input(\"Quanti anni hai?\"))\n",
        "if anni < 18:\n",
        "  print(\"Sei minorenne.\")\n",
        "elif anni < 25:\n",
        "  print(\"Sei maggiorenne, ma ancora non puoi votare per il Senato.\")\n",
        "else:\n",
        "  print(\"Sei maggiorenne e puoi votare per il Senato\")\n",
        "print(\"Ciao alla prossima.\")"
      ],
      "execution_count": 0,
      "outputs": []
    },
    {
      "metadata": {
        "id": "7uclxBDSsBAm",
        "colab_type": "text"
      },
      "cell_type": "markdown",
      "source": [
        "Se non avessimo avuto a disposizione la clausola ***elif***, avremmo dovuto indentare il codice nel modo seguente:"
      ]
    },
    {
      "metadata": {
        "id": "YXA1jdBZsLFs",
        "colab_type": "code",
        "colab": {}
      },
      "cell_type": "code",
      "source": [
        "print(\"Cercherò di stabilire qual'è la tua condizione anagrafica.\")\n",
        "anni = eval(input(\"Quanti anni hai?\"))\n",
        "if anni < 18:\n",
        "  print(\"Sei minorenne.\")\n",
        "else:\n",
        "  if anni < 25:\n",
        "    print(\"Sei maggiorenne, ma ancora non puoi votare per il Senato.\")\n",
        "  else:\n",
        "    print(\"Sei maggiorenne e puoi votare per il Senato\")\n",
        "print(\"Ciao alla prossima.\")"
      ],
      "execution_count": 0,
      "outputs": []
    },
    {
      "metadata": {
        "id": "JNIiAPGis2oc",
        "colab_type": "text"
      },
      "cell_type": "markdown",
      "source": [
        "## Cicli\n",
        "L'altra tipica clausola di controllo che ci aspettiamo di trovare in un linguaggio di programmazione è quella che ci permette di realizzare dei cicli, cioè dei blocchi di programma che si ripetono per un certo numero di volte, in base ad una condizione che prima o poi deve cambiare, causando l'uscita dal ciclo e la continuazione del programma.\n",
        "A seconda di quale sia la condizione che porta a ripetere il blocco di programma e delle modalità della sua valutazione, nei moderni linguaggi di programmazione le istruzioni che permettono di controllare i cicli sono note come, **FOR**, **WHILE** o **REPEAT UNTIL**.\n",
        "Normalmente, le varie opzioni offerte sono tutte equivalenti, nel senso che con una qualsiasi di queste istruzioni di controllo è possibile realizzare qualunque tipo di ciclo, ma vengono offerte diverse opzioni per rendere più naturale e comprensibile il tipo di logica applicata.\n",
        "\n",
        "Vediamo alcuni esempi relativi al Python.\n"
      ]
    },
    {
      "metadata": {
        "id": "Ie71-e-9vP6n",
        "colab_type": "code",
        "colab": {}
      },
      "cell_type": "code",
      "source": [
        "for contatore in range(1,11):\n",
        "  print(contatore)"
      ],
      "execution_count": 0,
      "outputs": []
    },
    {
      "metadata": {
        "id": "vRSYFiwLvsB3",
        "colab_type": "text"
      },
      "cell_type": "markdown",
      "source": [
        "Normalmente si usa la clausola ***for*** quando un blocco di programma deve ripetersi per un numero prestabilito di volte. L'istruzione ***range*** è una funzione standard del Python che viene invocata con due parametri e fornisce un intervallo di numeri che va dal primo parametro al valore del secondo parametro ***meno uno***.\n",
        "Torneremo più avanti sul concetto di *funzione* e sulle potenzialità della clausola for quando avremo introdotto ulteriori caratteristiche del linguaggio.\n",
        "\n",
        "Lo stesso esempio può essere riscritto in questo modo:"
      ]
    },
    {
      "metadata": {
        "id": "sq_VduTTxEaf",
        "colab_type": "code",
        "colab": {}
      },
      "cell_type": "code",
      "source": [
        "contatore = 1\n",
        "while contatore < 11:\n",
        "  print(contatore)\n",
        "  contatore += 1"
      ],
      "execution_count": 0,
      "outputs": []
    },
    {
      "metadata": {
        "id": "AwE_z_s3yDy8",
        "colab_type": "text"
      },
      "cell_type": "markdown",
      "source": [
        "L'istruzione ***while*** risulta più comoda quando non è prestabilito il numero di volte in cui debba essere eseguito il ciclo, ma questo dipende da una condizione che può cambiare per effetto di un evento come l'input dell'utente, il risultato di un calcolo o un valore letto da un database o ricevuto da un altro programma. Nel nostro esempio è stata usata per realizzare un ciclo predeterminato come nel caso precedente.\n",
        "\n",
        "L'istruzione ***break*** permette di uscire in modo immediato da un ciclo. Questa istruzione può essere utilizzata per gestire situazioni impreviste, errori, ma anche per simulare i cosiddetti *post-test loop*.\n",
        "\n",
        "Poiché l'impiego della clausola ***break*** è una tecnica di programmazione non strutturata, andrebbe utilizzata con cautela.\n",
        "\n",
        "Sul Paradigma di **Programmazione Strutturata** e sui *post-test loop* invitiamo i lettori di questo notebook che non fossero stati presenti alla lezione in laboratorio ad effettuare approfondimenti sul web.\n",
        "\n",
        "Come spunto forniamo un piccolo esempio:\n"
      ]
    },
    {
      "metadata": {
        "id": "bwLdEALQzBsa",
        "colab_type": "code",
        "colab": {}
      },
      "cell_type": "code",
      "source": [
        "contatore = 1\n",
        "while True:\n",
        "  print(contatore)\n",
        "  contatore += 1\n",
        "  if contatore > 10:\n",
        "    break\n",
        "  "
      ],
      "execution_count": 0,
      "outputs": []
    },
    {
      "metadata": {
        "id": "woE6jTCz3hP8",
        "colab_type": "text"
      },
      "cell_type": "markdown",
      "source": [
        "# Strutturazione del programma\n",
        "## Le funzioni\n",
        "\n",
        "Una funzione è un blocco di codice che può essere richiamato ed eseguito più volte all'interno di un programma. \n",
        "Normalmente questi blocchi di programma vengono richiamati assegnando a determinate variabili valori diversi, specifici caso per caso.\n",
        "Queste variabili vengono spesso denominate *argomenti* o *parametri*. Nel Python molto spesso vengono denominate *keys*.\n",
        "\n",
        "Vediamo un esempio."
      ]
    },
    {
      "metadata": {
        "id": "1imMYnto4z0A",
        "colab_type": "code",
        "colab": {}
      },
      "cell_type": "code",
      "source": [
        "def stampaStatus (nome,eta):\n",
        "  print(\"Ciao caro\",nome)\n",
        "  if eta < 18:\n",
        "    print(\"Sei minorenne.\")\n",
        "  elif eta < 25:\n",
        "    print(\"Sei maggiorenne, ma ancora non puoi votare per il Senato.\")\n",
        "  else:\n",
        "    print(\"Sei maggiorenne e puoi votare per il Senato\")"
      ],
      "execution_count": 0,
      "outputs": []
    },
    {
      "metadata": {
        "id": "Lk7dKNNa5q3p",
        "colab_type": "text"
      },
      "cell_type": "markdown",
      "source": [
        "Tramite la clausola ***def*** viene definita la funzione, ma non viene eseguita! Si tratta di una dichiarazione. Una volta definita la funzione è memorizzata dall'interprete Python e può essere eseguita richiamandola valorizzandone i relativi parametri. Ecco l'esempio."
      ]
    },
    {
      "metadata": {
        "id": "ptIXNlI46J1B",
        "colab_type": "code",
        "colab": {}
      },
      "cell_type": "code",
      "source": [
        "utente = input(\"Ciao. Come ti chiami?\")\n",
        "anni = eval(input(\"Quanti anni hai?\"))\n",
        "stampaStatus(utente, anni)\n",
        "print(\"Alla prossima!\")"
      ],
      "execution_count": 0,
      "outputs": []
    },
    {
      "metadata": {
        "id": "LGXIaPXk7HVE",
        "colab_type": "text"
      },
      "cell_type": "markdown",
      "source": [
        "Il tipo di *sotto-programma* appena definito è spesso chiamato dai puristi dell'informatica teorica ***procedura***, anziché *funzione*, poiché tale sotto-programma esegue azioni specifiche ma non restituisce al programma chiamante un risultato.\n",
        "Una ***funzione*** è un *sotto-programma* che restituisce un dato, chiamato **valore di ritorno**.\n",
        "Ecco un esempio che chiarisce il concetto."
      ]
    },
    {
      "metadata": {
        "id": "dnVvbe178FQg",
        "colab_type": "code",
        "colab": {}
      },
      "cell_type": "code",
      "source": [
        "def somma(a,b):\n",
        "  c = a+b\n",
        "  return c"
      ],
      "execution_count": 0,
      "outputs": []
    },
    {
      "metadata": {
        "id": "5UQg4zTN8PWT",
        "colab_type": "text"
      },
      "cell_type": "markdown",
      "source": [
        "Ecco un esempio di utilizzo."
      ]
    },
    {
      "metadata": {
        "id": "6L8PBaWt8Tz8",
        "colab_type": "code",
        "colab": {}
      },
      "cell_type": "code",
      "source": [
        "print(somma(3,4))"
      ],
      "execution_count": 0,
      "outputs": []
    },
    {
      "metadata": {
        "id": "B4YiAHOU8kOv",
        "colab_type": "text"
      },
      "cell_type": "markdown",
      "source": [
        "# Ricorsione\n",
        "Il Python, come la maggior parte dei linguaggi moderni supporta la ricorsione, cioè la possibilità che una funzione al proprio interno richiami se stessa.\n",
        "\n",
        "La cosa può apparire singolare, tuttavia è facilmente comprensibile analizzando come l'interprete gestisce le chiamate a funzione attraverso l'uso di una struttura dati chiamata ***stack*** che permette di associare ad ogni chiamata ricorsiva un'istanza diversa dello stato del programma.\n",
        "\n",
        "Per comprendere il concetto ricorriamo all'esempio classico della funzione ***fattoriale***.\n",
        "\n",
        "In matematica il fattoriale è un'operazione, indicata dall'operatore \"!\" indicato dietro un numero intero, definita in questo modo:\n",
        "\n",
        "n! = n x (n-1) x (n-2) x (n-3) x ... 1\n",
        "\n",
        "Ad esempio 5! = 5 x 4 x 3 x 2 x 1 = 120\n",
        "\n",
        "Per definizione il fattoriale di 0 è 1, cioè 0! = 1\n",
        "\n",
        "Utilizzando i loop è semplice scrivere una funzione Python che calcoli il fattoriale.\n",
        "\n",
        "Una prima soluzione che fa uso dell'istruzione ***for*** è la seguente:"
      ]
    },
    {
      "metadata": {
        "id": "RqgGnOUM_Dw3",
        "colab_type": "code",
        "colab": {}
      },
      "cell_type": "code",
      "source": [
        "def fattoriale(n):\n",
        "    ris = 1\n",
        "    for x in range(1,n+1):\n",
        "        ris = ris*x\n",
        "    return ris"
      ],
      "execution_count": 0,
      "outputs": []
    },
    {
      "metadata": {
        "id": "GKO03lWxzh82",
        "colab_type": "text"
      },
      "cell_type": "markdown",
      "source": [
        "Possiamo provare la funzione con il seguente blocco di codice:"
      ]
    },
    {
      "metadata": {
        "id": "jCnm0V-Vzq7a",
        "colab_type": "code",
        "colab": {}
      },
      "cell_type": "code",
      "source": [
        "a = eval(input(\"Numero? \"))\n",
        "print(\"Fattoriale di\",a,\"=\", fattoriale(a))"
      ],
      "execution_count": 0,
      "outputs": []
    },
    {
      "metadata": {
        "id": "vxVnaUkY0FCD",
        "colab_type": "text"
      },
      "cell_type": "markdown",
      "source": [
        "Per completezza forniamo anche una possibile soluzione che fa uso dell'istruzione ***while***."
      ]
    },
    {
      "metadata": {
        "id": "haXjPSVh0PEU",
        "colab_type": "code",
        "colab": {}
      },
      "cell_type": "code",
      "source": [
        "def fatt(n):\n",
        "    ris = 1\n",
        "    x = n\n",
        "    while x>=1:\n",
        "        ris = ris * x\n",
        "        x = x -1\n",
        "\n",
        "    return ris\n",
        "  \n",
        "a = eval(input(\"Numero? \"))\n",
        "print(\"Fattoriale di\",a,\"=\", fattoriale(a))"
      ],
      "execution_count": 0,
      "outputs": []
    },
    {
      "metadata": {
        "id": "VA56YvIs_Zf-",
        "colab_type": "text"
      },
      "cell_type": "markdown",
      "source": [
        "La soluzione convenzionale ottenuta con uno degli esempi precedenti si chiama ***iterativa***.\n",
        "\n",
        "Osservando la formula del fattoriale, è facile comprendere che vale la seguente proprietà:\n",
        "\n",
        "n! = n X (n-1)! \n",
        "\n",
        "cioè il fattoriale di un numero è pari al fattoriale del numero precedente moltiplicato per il numero stesso. Il fattoriale di 5 è quindi pari a 5 moltiplicato il fattoriale di 4.\n",
        "\n",
        "Sapendo che il fattoriale di 0 è pari ad 1, e potendo esprimere il problema di ordine *n* in termini del problema di ordine *n-1 * è allora possibile fornire una soluzione ricorsiva."
      ]
    },
    {
      "metadata": {
        "id": "_rX7vY-SAmnq",
        "colab_type": "code",
        "colab": {}
      },
      "cell_type": "code",
      "source": [
        "def fattoriale(n):\n",
        "  if n==0:\n",
        "    return 1\n",
        "  return n * fattoriale(n-1)"
      ],
      "execution_count": 0,
      "outputs": []
    },
    {
      "metadata": {
        "id": "9JPD1c1DA4K4",
        "colab_type": "text"
      },
      "cell_type": "markdown",
      "source": [
        "Proviamo se funziona!"
      ]
    },
    {
      "metadata": {
        "id": "YRkLr-e7A7Zw",
        "colab_type": "code",
        "colab": {}
      },
      "cell_type": "code",
      "source": [
        "print(fattoriale(5))"
      ],
      "execution_count": 0,
      "outputs": []
    },
    {
      "metadata": {
        "id": "N78eEww_BCsR",
        "colab_type": "text"
      },
      "cell_type": "markdown",
      "source": [
        "Rimandiamo alla discussione in aula gli approfondimenti"
      ]
    },
    {
      "metadata": {
        "id": "clomQIvhBG_v",
        "colab_type": "text"
      },
      "cell_type": "markdown",
      "source": [
        "## Un problema più complesso\n",
        "\n",
        "Nel caso del fattoriale il codice della versione ricorsiva non appare vantaggioso né più chiaro della versione iterativa. Ma cosa accade se voglio realizzare un risolutore di un problema più intricato, come ad esempio il rompicato chiamato **Torre di Hanoi**?"
      ]
    },
    {
      "metadata": {
        "id": "5zcjKhSD0vkt",
        "colab_type": "text"
      },
      "cell_type": "markdown",
      "source": [
        "# La Torre di Hanoi\n",
        "Si tratta di un celebre gioco-rompicapo la cui descrizione potete trovarla su Wikipedia a [questo link](https://it.wikipedia.org/wiki/Torre_di_Hanoi).\n",
        "Potete provare a giocare con una versione on line di questo rompicapo a [questo link](https://it.goobix.com/giochi-online/torri-di-hanoi/#).\n",
        "\n",
        "Supponiamo di voler scrivere un programma in Python che risolva il rompicapo per un numero arbitrario di dischetti.\n",
        "\n",
        "In particolare immaginiamo di voler definire una funzione, chiamata ***risolviHanoi***, che riceva come parametri:\n",
        "\n",
        "\n",
        "*   Il numero di dischi\n",
        "*   Il palo di origine su cui sono inizialmente impilati i dischi\n",
        "*   Il palo da utilizzare come appoggio\n",
        "*   Il palo di destinazione dove dovranno essere collocati i dischi alla fine del gioco\n",
        "\n",
        "Ad esempio, volendo risolvere il problema di spostare 4 dischi dal primo palo, al terzo palo usando il secondo come appoggio, chiameremo la funzione in questo modo: ***risolviHanoi(4,1,2,3)***\n",
        "\n",
        "La funzione dovrà stampare a video la sequenza di operazioni necessarie a risolvere il rompicapo. Nel caso dell'esempio sopra riportato, la funzione dovrebbe quindi stampare:\n",
        "\n",
        "sposta un disco dal palo  1  al palo  2\n",
        "\n",
        "sposta un disco dal palo  1  al palo  3\n",
        "\n",
        "sposta un disco dal palo  2  al palo  3\n",
        "\n",
        "sposta un disco dal palo  1  al palo  2\n",
        "\n",
        "sposta un disco dal palo  3  al palo  1\n",
        "\n",
        "sposta un disco dal palo  3  al palo  2\n",
        "\n",
        "sposta un disco dal palo  1  al palo  2\n",
        "\n",
        "sposta un disco dal palo  1  al palo  3\n",
        "\n",
        "sposta un disco dal palo  2  al palo  3\n",
        "\n",
        "sposta un disco dal palo  2  al palo  1\n",
        "\n",
        "sposta un disco dal palo  3  al palo  1\n",
        "\n",
        "sposta un disco dal palo  2  al palo  3\n",
        "\n",
        "sposta un disco dal palo  1  al palo  2\n",
        "\n",
        "sposta un disco dal palo  1  al palo  3\n",
        "\n",
        "sposta un disco dal palo  2  al palo  3 \n",
        "\n",
        "\n",
        "\n",
        "\n",
        "Che è la soluzione per spostare 4 dischi dal palo 1 al palo 3 usando il palo 2 come appoggio.\n",
        "\n",
        "**Provate a progettare la funzione in modo iterativo.**\n",
        "\n",
        "Difficile vero?\n",
        "\n",
        "Il problema è molto difficile dal punto di vista progettuale. Pur esercitandosi con il rompicapo, risulta difficile identificare e descrivere un preciso algoritmo.\n",
        "\n",
        "Al contrario, la soluzione ricorsiva è molto semplice.\n",
        "\n",
        "**Per implementare la ricorsione, dobbiamo:**\n",
        "\n",
        "\n",
        "\n",
        "1.   Identificare il caso base che sappiamo risolvere e che costituisce la condizione di uscita dalla ricorsione\n",
        "2.   Descrivere il problema di ordine *n* in funzione del problema di ordine *n-1*\n",
        "\n",
        "**Vediamo il caso base:**\n",
        "\n",
        "Se n=1 la soluzione è facile:\n",
        "\n",
        "*Sposta il disco dal palo origine al palo di destinazione.*\n",
        "\n",
        "**Se n è un numero maggiore di 1 ragioniamo in questo modo:**\n",
        "\n",
        "Se non conosciamo la soluzione per n dischi, supponiamo di aver già risolto il problema per n-1 dischi. In questo caso basterà spostare innanzitutto i primi n-1 dischi dal palo di origine a quello di appoggio (usando quello di destinazione finale come appoggio) poi spostare il disco rimanente dal palo di origine a quello di destinazione ed infine spostare gli n-1 dischi dal palo di appoggio a quello di destinazione usando quello che all'inizio era di origine come palo di appoggio e troveremo i dischi impilati nell'ordine corretto, tutti sul palo di destinazione.\n",
        "\n",
        "In realtà non sappiamo ancora come spostare n-1 dischi, ma potremo riapplicare lo stesso ragionamento immaginando di aver già risolto il problema per n-2 dischi, cosa che in realtà non sappiamo ancora fare ma nuovamente potremo riapplicare il ragionamento immaginando di aver già risolto il problema per n-3 dischi e così via finché non arriveremo al caso di 1 solo disco che sappiamo effettivamente risolvere (caso base) e quindi la ricorsione terminerà.\n",
        "\n",
        "In altre parole, avendo un linguaggio ricorsivo potremmo impostare il problema in questo modo.\n",
        "\n",
        "Spostare n dischi dal palo origine al palo di destinazione usando il palo di appoggio?\n",
        "\n",
        "    Se n=1, allora sposta un disco dal palo origine al palo destinazione, altrimenti:\n",
        "\n",
        "        sposta n-1 dischi dal palo origine al palo  appoggio usando il palo destinazione come appoggio\n",
        "  \n",
        "        poi sposta un disco dal palo origine al palo destinazione\n",
        "  \n",
        "        poi sposta n-1 dischi dal palo  appoggio al palo destinazione usando il palo origine come appoggio\n",
        "  \n",
        "  \n",
        "In linguaggio Python si traduce in questa funzione:\n"
      ]
    },
    {
      "metadata": {
        "id": "tyDURcmv85B1",
        "colab_type": "code",
        "colab": {}
      },
      "cell_type": "code",
      "source": [
        "def risolviHanoi(n, origine, appoggio, destinazione):\n",
        "    if n == 1:\n",
        "        print(\"sposta un disco dal palo \",origine,\" al palo \",destinazione)\n",
        "    else:\n",
        "        risolviHanoi(n-1,origine,destinazione,appoggio)\n",
        "        print(\"sposta un disco dal palo \",origine,\" al palo \",destinazione)\n",
        "        risolviHanoi(n-1,appoggio,origine,destinazione)"
      ],
      "execution_count": 0,
      "outputs": []
    },
    {
      "metadata": {
        "id": "w05xnoGK9CKc",
        "colab_type": "text"
      },
      "cell_type": "markdown",
      "source": [
        "Tutto qui?\n",
        "Provare per credere."
      ]
    },
    {
      "metadata": {
        "id": "Xr5J-A6l9HaG",
        "colab_type": "code",
        "colab": {}
      },
      "cell_type": "code",
      "source": [
        "num=eval(input('Quanti dischi? '))\n",
        "risolviHanoi(num, 1,2,3)\n"
      ],
      "execution_count": 0,
      "outputs": []
    }
  ]
}