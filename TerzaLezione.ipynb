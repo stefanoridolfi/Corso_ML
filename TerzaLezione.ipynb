{
  "nbformat": 4,
  "nbformat_minor": 0,
  "metadata": {
    "colab": {
      "name": "TerzaLezione.ipynb",
      "version": "0.3.2",
      "provenance": [],
      "private_outputs": true,
      "collapsed_sections": [],
      "include_colab_link": true
    },
    "kernelspec": {
      "name": "python3",
      "display_name": "Python 3"
    }
  },
  "cells": [
    {
      "cell_type": "markdown",
      "metadata": {
        "id": "view-in-github",
        "colab_type": "text"
      },
      "source": [
        "<a href=\"https://colab.research.google.com/github/spaziochirale/CorsoPythonML/blob/master/TerzaLezione.ipynb\" target=\"_parent\"><img src=\"https://colab.research.google.com/assets/colab-badge.svg\" alt=\"Open In Colab\"/></a>"
      ]
    },
    {
      "metadata": {
        "id": "IyraKc_imTRO",
        "colab_type": "text"
      },
      "cell_type": "markdown",
      "source": [
        "# Corso di Coding in Linguaggio Python & Machine Learning\n",
        "## Terza Lezione\n"
      ]
    },
    {
      "metadata": {
        "id": "5UJo9NnAmmRD",
        "colab_type": "text"
      },
      "cell_type": "markdown",
      "source": [
        "# Gestione delle Stringhe\n",
        "\n",
        "Una delle caratteristiche più apprezzate del Python è la sua capacità di gestire e manipolare le stringhe in modo facile, intuitivo e potente.\n",
        "\n",
        "Alcune delle notazioni utilizzate nella sintassi del linguaggio saranno più chiare quando avremo svolto la lezione sull'Object Oriented.\n",
        "\n",
        "Una *stringa* in Python è una sequenza ordinata di caratteri, racchiusa tra apici o doppi apici. È possibile utilizzare indifferentemente i due tipi di apici, a patto che siano coerenti tra apertura e chiusura."
      ]
    },
    {
      "metadata": {
        "id": "bmajRYaoqDCo",
        "colab_type": "code",
        "colab": {}
      },
      "cell_type": "code",
      "source": [
        "a = \"Questa è una stringa\"\n",
        "b = 'anche questa è una stringa'\n",
        "\n",
        "print(a,b)"
      ],
      "execution_count": 0,
      "outputs": []
    },
    {
      "metadata": {
        "id": "1z4B7fOzqRTb",
        "colab_type": "text"
      },
      "cell_type": "markdown",
      "source": [
        "All'interno di una *stringa* possono essere inclusi caratteri non stampabili o non visualizzabili sul viedeo, detti caratteri di controllo o formattazione, come ad esempio il carattere \"TAB\" o il carattere \"LINE FEED\". In questo caso il carattere è indicato da una specifica sequenza di due caratteri, detta *sequenza di escape*, in cui il primo carattere è il *backslash* \"\\\".\n",
        "Ad esempio, la stringa seguente, se stampata sul terminale, fornisce un output formattato in stile tabella, grazie all'utilizzo dei caratteri di *tabulazione* e *line feed*."
      ]
    },
    {
      "metadata": {
        "id": "xKM3HlS0rIiI",
        "colab_type": "code",
        "colab": {}
      },
      "cell_type": "code",
      "source": [
        "a = 'nome\\tcognome\\nStefano\\tCapezzone'\n",
        "print(a)"
      ],
      "execution_count": 0,
      "outputs": []
    },
    {
      "metadata": {
        "id": "wGx2JYaKsZAu",
        "colab_type": "text"
      },
      "cell_type": "markdown",
      "source": [
        "Poiché il *backslash* è il carattere che identifica l'inizio di una sequenza di escape, se si vuole stampare il carattere stesso occorre utilizzare la sequenza '\\\\\\'\n",
        "\n",
        "A seconda della configurazione del Sistema Operativo e dell'installazione Python i caratteri possono essere internamente rappresentati attraverso la codifica ASCII oppure UNICODE.\n",
        "\n",
        "Ecco alcuni esempi di sequenze di escape.\n",
        "\t \n",
        "\n",
        "> **\\\\\\**\tBackslash (\\)\t \n",
        "**\\'**\tCarattere di quotatura singola (')\t \n",
        "**\\\"**\tCarattere di quotatura doppia (\")\t \n",
        "**\\a**\tASCII Bell (BEL)\t \n",
        "**\\b**\tASCII Backspace (BS)\t \n",
        "**\\f**\tASCII Formfeed (FF)\t \n",
        "**\\n**\tASCII Linefeed (LF)\t \n",
        "**\\N{name}**\tCarattere chiamato name nel database Unicode (solamente in Unicode)\t \n",
        "**\\r**\tASCII Carriage Return (CR)\t \n",
        "**\\t**\tASCII Tab orizzontale (TAB)\t \n",
        "**\\uxxxx**\tCarattere con valore esadecimale a 16 bit xxxx (valido solo per Unicode)\t\n",
        "**\\Uxxxxxxxx**\tCarattere con valore esadecimale a 32 bit xxxxxxxx (valido solo per Unicode)\t\n",
        "**\\v**\tASCII Tab verticale (VT)\t \n",
        "**\\ooo**\tCarattere ASCII con valore ottale ooo\t\n",
        "**\\xhh**\tCarattere ASCII con valore esadecimale hh\n",
        "\n",
        "\n",
        "\n",
        "\n",
        "Provare ad utilizzare alcune delle sequenze indicate per sperimentare il comportamento in fase di stampa della stringa.\n",
        "\n",
        "\n"
      ]
    },
    {
      "metadata": {
        "id": "vKMadoiQtrhw",
        "colab_type": "code",
        "colab": {}
      },
      "cell_type": "code",
      "source": [
        "a = 'Ciao\\rCaro'\n",
        "print(a)"
      ],
      "execution_count": 0,
      "outputs": []
    },
    {
      "metadata": {
        "id": "u_5I1n544-_F",
        "colab_type": "text"
      },
      "cell_type": "markdown",
      "source": [
        "Le stringhe posseggono un insieme di funzioni di utilità che permettono di svolgere le operazioni più comuni. È possibile richiamare queste funzioni su una certa stringa, utilizzando la notazione: *nome_stringa.nome_funzione()*.\n",
        "Comprenderemo meglio questa notazione quando avremo affrontato la lezione sull'Object Oriented.\n",
        "\n",
        "Ecco alcuni esempi di facile comprensione."
      ]
    },
    {
      "metadata": {
        "id": "_J7YhcHG50zF",
        "colab_type": "code",
        "colab": {}
      },
      "cell_type": "code",
      "source": [
        "a = 'Stefano Capezzone'\n",
        "n = a.count('z')\n",
        "print(n)"
      ],
      "execution_count": 0,
      "outputs": []
    },
    {
      "metadata": {
        "id": "4pZbBoMo6D_q",
        "colab_type": "text"
      },
      "cell_type": "markdown",
      "source": [
        "La funzione *count('x')* restituisce il numero di occorrenze di *'x'* all'interno della stringa. Provare a verificare se funziona con un solo carattere o anche con una sottostringa qualsiasi. Che succede se *x* non è presente nella stringa?"
      ]
    },
    {
      "metadata": {
        "id": "E4fWg9n87Lha",
        "colab_type": "code",
        "colab": {}
      },
      "cell_type": "code",
      "source": [
        "print(a.find('f'))"
      ],
      "execution_count": 0,
      "outputs": []
    },
    {
      "metadata": {
        "id": "DPSb_RQY7VBy",
        "colab_type": "text"
      },
      "cell_type": "markdown",
      "source": [
        "La funzione *find('x')* restituisce la posizione di *'x'* all'interno della stringa. Da quale numero parte il conteggio relativo alla posizione? \n",
        "\n",
        "Qual'è il significato delle funzioni richiamate negli esempi che seguono?"
      ]
    },
    {
      "metadata": {
        "id": "XAOJaNTn8Dwc",
        "colab_type": "code",
        "colab": {}
      },
      "cell_type": "code",
      "source": [
        "b = a.lower()\n",
        "c = a.upper()\n",
        "print(a)\n",
        "print(b)\n",
        "print(c)"
      ],
      "execution_count": 0,
      "outputs": []
    },
    {
      "metadata": {
        "id": "CtA3JQyk8XaJ",
        "colab_type": "text"
      },
      "cell_type": "markdown",
      "source": [
        "Negli esempi riportati sopra, la stringa *a* viene modificata dalla chiamata alle funzioni *upper()* o *lower()*?\n",
        "\n",
        "Che dire dell'esempio che segue?"
      ]
    },
    {
      "metadata": {
        "id": "LlzTTeub8kep",
        "colab_type": "code",
        "colab": {}
      },
      "cell_type": "code",
      "source": [
        "b = a.replace('z','l')\n",
        "print(a)\n",
        "print(b)"
      ],
      "execution_count": 0,
      "outputs": []
    },
    {
      "metadata": {
        "id": "UeuK57-089wr",
        "colab_type": "text"
      },
      "cell_type": "markdown",
      "source": [
        "La funzione strip() elimina gli spazi bianchi in testa e in coda ad una stringa."
      ]
    },
    {
      "metadata": {
        "id": "He54zU3v9ENw",
        "colab_type": "code",
        "colab": {}
      },
      "cell_type": "code",
      "source": [
        "a= '   Pippo   '\n",
        "print('ciao',a,'come stai?')\n",
        "print('ciao',a.strip(),'come stai?')"
      ],
      "execution_count": 0,
      "outputs": []
    },
    {
      "metadata": {
        "id": "-CLqp9giGDr3",
        "colab_type": "text"
      },
      "cell_type": "markdown",
      "source": [
        "# Indici\n",
        "\n",
        "nel linguaggio Python, tutti i tipi che coinvolgono sequenze o array di valori possono essere manipolati attraverso l'impiego di* 'indici' *utilizzando la notazione mostrata nell'esempio, che è relativo all'applicazione su una stringa."
      ]
    },
    {
      "metadata": {
        "id": "SXYneNKxGpgP",
        "colab_type": "code",
        "colab": {}
      },
      "cell_type": "code",
      "source": [
        "a = 'Hello World'\n",
        "b = a[6]\n",
        "c = a[1:5]\n",
        "print(b)\n",
        "print(c)\n"
      ],
      "execution_count": 0,
      "outputs": []
    },
    {
      "metadata": {
        "id": "CG3ER_Q4G6Rf",
        "colab_type": "text"
      },
      "cell_type": "markdown",
      "source": [
        "Come può essere facilmente verificato modificando l'esempio precedente, nel conteggio degli elementi, la prima posizione è indicata dal numero 0, mentre con la notazione [x:n] l'ultimo elemento del range individuato dalla coppia di indici è **n-1**.\n",
        "\n",
        "Osservare nell'esempio che segue l'effetto dell'omissione di uno dei due indici."
      ]
    },
    {
      "metadata": {
        "id": "-Wq_VajfHp7Z",
        "colab_type": "code",
        "colab": {}
      },
      "cell_type": "code",
      "source": [
        "print(a[:5])\n",
        "print(a[6:])\n"
      ],
      "execution_count": 0,
      "outputs": []
    },
    {
      "metadata": {
        "id": "9CE3gwK8IcJr",
        "colab_type": "text"
      },
      "cell_type": "markdown",
      "source": [
        "L'indice può anche essere negativo. In questo caso indica il fatto che il conteggio parte dall'ultimo elemento.\n",
        "Effettuare delle prove modificando l'esempio che segue."
      ]
    },
    {
      "metadata": {
        "id": "pJCVy12VIh9G",
        "colab_type": "code",
        "colab": {}
      },
      "cell_type": "code",
      "source": [
        "print(a[1:-2])"
      ],
      "execution_count": 0,
      "outputs": []
    },
    {
      "metadata": {
        "id": "V-mL62sUJfX1",
        "colab_type": "text"
      },
      "cell_type": "markdown",
      "source": [
        "# Liste\n",
        "\n",
        "Le liste sono un tipo di dato molto potente in Python. Sostituiscono il tipo array sia monodimensionale che multidimensionale presenti in altri linguaggi. \n",
        "\n",
        "Una lista può essere creata enumerando i suoi elementi all'interno di una coppia di parentesi quadre."
      ]
    },
    {
      "metadata": {
        "id": "xzZCAKM0J637",
        "colab_type": "code",
        "colab": {}
      },
      "cell_type": "code",
      "source": [
        "numeri = [1,2,3]\n",
        "frutta = ['mele','pere', 'arance','banane']\n",
        "\n",
        "print(numeri,frutta)\n"
      ],
      "execution_count": 0,
      "outputs": []
    },
    {
      "metadata": {
        "id": "tYWQDo1uKaYx",
        "colab_type": "text"
      },
      "cell_type": "markdown",
      "source": [
        "Una lista può contenere oggetti di qualunque tipo, anche di tipi non omogenei tra loro"
      ]
    },
    {
      "metadata": {
        "id": "AIO_jmUXKhO-",
        "colab_type": "code",
        "colab": {}
      },
      "cell_type": "code",
      "source": [
        "l = [1,2,'banane',1.73]\n",
        "print(l)"
      ],
      "execution_count": 0,
      "outputs": []
    },
    {
      "metadata": {
        "id": "bK3q0lfzKpRh",
        "colab_type": "text"
      },
      "cell_type": "markdown",
      "source": [
        "Una lista può contenere altre liste tra i suoi elementi"
      ]
    },
    {
      "metadata": {
        "id": "dfL7Vhn9Kv0Z",
        "colab_type": "code",
        "colab": {}
      },
      "cell_type": "code",
      "source": [
        "l = [1,2,3]\n",
        "m = [6,4,2]\n",
        "p = [l,m]\n",
        "print(p)"
      ],
      "execution_count": 0,
      "outputs": []
    },
    {
      "metadata": {
        "id": "QqWYWCNxLIXs",
        "colab_type": "text"
      },
      "cell_type": "markdown",
      "source": [
        "Le liste sono **sequenze ordinate di oggetti** e possono essere manipolate con la notazione che fa uso di indici."
      ]
    },
    {
      "metadata": {
        "id": "jZHaW0k0LaSP",
        "colab_type": "code",
        "colab": {}
      },
      "cell_type": "code",
      "source": [
        "l = ['pippo','pluto', 'paperino', 'paperone', 'qui','quo','qua']\n",
        "print(l[2])\n",
        "print(l[2:5])"
      ],
      "execution_count": 0,
      "outputs": []
    },
    {
      "metadata": {
        "id": "sE7FC7dOMsuC",
        "colab_type": "text"
      },
      "cell_type": "markdown",
      "source": [
        "Da notare che la notazione con un solo indice restituisce l'elemento i-esimo della lista e non una lista di un solo elemento, come risulta chiaro dall'esempio che segue."
      ]
    },
    {
      "metadata": {
        "id": "QePa4yuFM6Mn",
        "colab_type": "code",
        "colab": {}
      },
      "cell_type": "code",
      "source": [
        "print(l[3])\n",
        "print(l[3:4])"
      ],
      "execution_count": 0,
      "outputs": []
    },
    {
      "metadata": {
        "id": "louUXAvsNxCn",
        "colab_type": "text"
      },
      "cell_type": "markdown",
      "source": [
        "Anche nel caso delle liste, come già visto a proposito delle stringhe, esistono delle funzioni richiamabili sulla lista stessa che permettono di effettuare operazioni di utilità.\n",
        "\n",
        "Alcune funzioni modificano il contenuto della lista.\n",
        "\n",
        "La funzione ***append()*** aggiunge un elemento in fondo alla lista e può essere utilizzata per costruire incrementalmente una lista nel corso del programma."
      ]
    },
    {
      "metadata": {
        "id": "gxsN6DhwOmj7",
        "colab_type": "code",
        "colab": {}
      },
      "cell_type": "code",
      "source": [
        "l =[]\n",
        "print('Lista vuota:',l)\n",
        "l.append('mele')\n",
        "print(l)\n",
        "l.append('pere')\n",
        "print(l)"
      ],
      "execution_count": 0,
      "outputs": []
    },
    {
      "metadata": {
        "id": "G12zroTpPFFs",
        "colab_type": "text"
      },
      "cell_type": "markdown",
      "source": [
        "La funzione ***pop()*** è complementare alla append(). Se richiamata su una lista, restituisce l'oggetto che si trova in fondo alla lista e **lo rimuove dalla lista**."
      ]
    },
    {
      "metadata": {
        "id": "uiYpY804PhK1",
        "colab_type": "code",
        "colab": {}
      },
      "cell_type": "code",
      "source": [
        "l = ['mele','pere', 'arance','banane']\n",
        "print('Lista prima dell\\'estrazione:',l)\n",
        "a = l.pop()\n",
        "print('Valore estratto:',a)\n",
        "print(\"Lista dopo l'estrazione:\",l)"
      ],
      "execution_count": 0,
      "outputs": []
    },
    {
      "metadata": {
        "id": "50WVgbCKQSlm",
        "colab_type": "text"
      },
      "cell_type": "markdown",
      "source": [
        "Provare a comprendere l'effetto delle funzioni indicate negli esempi che seguono."
      ]
    },
    {
      "metadata": {
        "id": "JTKOFVPqQcMI",
        "colab_type": "code",
        "colab": {}
      },
      "cell_type": "code",
      "source": [
        "l = ['mele','pere', 'arance','banane']\n",
        "i = l.index('arance')\n",
        "print(i)"
      ],
      "execution_count": 0,
      "outputs": []
    },
    {
      "metadata": {
        "id": "12a3OD3VQpFl",
        "colab_type": "code",
        "colab": {}
      },
      "cell_type": "code",
      "source": [
        "l = ['mele','pere', 'arance','banane', 'pere']\n",
        "n = l.count('pere')\n",
        "print(n)"
      ],
      "execution_count": 0,
      "outputs": []
    },
    {
      "metadata": {
        "id": "IDmS0yMFQ9-B",
        "colab_type": "code",
        "colab": {}
      },
      "cell_type": "code",
      "source": [
        "l = ['mele','pere', 'arance','banane', 'pere']\n",
        "print(l)\n",
        "l.remove('pere')\n",
        "print(l)"
      ],
      "execution_count": 0,
      "outputs": []
    },
    {
      "metadata": {
        "id": "xKQ9ltdFRIlZ",
        "colab_type": "code",
        "colab": {}
      },
      "cell_type": "code",
      "source": [
        "l = ['mele','pere', 'arance','banane']\n",
        "print(l)\n",
        "l.insert(2,'mandarini')\n",
        "print(l)"
      ],
      "execution_count": 0,
      "outputs": []
    },
    {
      "metadata": {
        "id": "riXZbPn2Rhuo",
        "colab_type": "code",
        "colab": {}
      },
      "cell_type": "code",
      "source": [
        "l = ['mele', 'pere', 'mandarini', 'arance', 'banane']\n",
        "print(l)\n",
        "l.reverse()\n",
        "print(l)"
      ],
      "execution_count": 0,
      "outputs": []
    },
    {
      "metadata": {
        "id": "m9eJLgDKSrOc",
        "colab_type": "code",
        "colab": {}
      },
      "cell_type": "code",
      "source": [
        "l = ['mele', 'pere', 'mandarini', 'arance', 'banane']\n",
        "print(l)\n",
        "l.sort()\n",
        "print(l)"
      ],
      "execution_count": 0,
      "outputs": []
    },
    {
      "metadata": {
        "id": "AuZJOt9fTFgo",
        "colab_type": "text"
      },
      "cell_type": "markdown",
      "source": [
        "## Utilizzo delle liste come iteratore per il controllo dei cicli FOR\n",
        "\n",
        "La lista è uno dei tipi di oggetti in Python che vengono definiti **ITERATORI**.\n",
        "Un iteratore può essere utilizzato per istanziare la variabile di controllo di un ciclo for. L'esempio che segue chiarisce il concetto."
      ]
    },
    {
      "metadata": {
        "id": "1SAF5cjHTqwt",
        "colab_type": "code",
        "colab": {}
      },
      "cell_type": "code",
      "source": [
        "l = ['mele', 'pere', 'mandarini', 'arance', 'banane']\n",
        "for f in l:\n",
        "  print(f)"
      ],
      "execution_count": 0,
      "outputs": []
    },
    {
      "metadata": {
        "id": "ND39UZ_kT-GL",
        "colab_type": "text"
      },
      "cell_type": "markdown",
      "source": [
        "# Tuple\n",
        "\n",
        "Nel Python è definito un altro tipo di dato, molto simile alle liste, denominato TUPLA.\n",
        "Le tuple sono come liste, ma non sono modificabili.\n",
        "Tutti i metodi, cioè le funzioni proprie, delle liste esistono anche nelle tuple, ad eccezione di quelle che modificano la tupla.\n",
        "Una tupla è praticamente una lista read-only!\n",
        "La notazione per definire le tuple usa le parentesi tonde anziché quadre.\n",
        "\n",
        "Ecco alcuni esempi."
      ]
    },
    {
      "metadata": {
        "id": "I5-3YaE2UjTU",
        "colab_type": "code",
        "colab": {}
      },
      "cell_type": "code",
      "source": [
        "l = ('pele', 'mele','arance')\n",
        "print(l)\n",
        "print(l.count('mele'))"
      ],
      "execution_count": 0,
      "outputs": []
    },
    {
      "metadata": {
        "id": "ocWuy0thU55l",
        "colab_type": "text"
      },
      "cell_type": "markdown",
      "source": [
        "Una lista può essere convertita in tupla e viceversa."
      ]
    },
    {
      "metadata": {
        "id": "q540TzLWU93Y",
        "colab_type": "code",
        "colab": {}
      },
      "cell_type": "code",
      "source": [
        "l = ['mele', 'pere', 'mandarini', 'arance', 'banane']\n",
        "t = tuple(l)\n",
        "print(t)"
      ],
      "execution_count": 0,
      "outputs": []
    },
    {
      "metadata": {
        "id": "7pshFntoVKqm",
        "colab_type": "code",
        "colab": {}
      },
      "cell_type": "code",
      "source": [
        "t = ['mele', 'pere', 'mandarini', 'arance', 'banane']\n",
        "l = list(t)\n",
        "l.sort()\n",
        "print(l)"
      ],
      "execution_count": 0,
      "outputs": []
    },
    {
      "metadata": {
        "id": "F82ZI7eBVoI4",
        "colab_type": "text"
      },
      "cell_type": "markdown",
      "source": [
        "# Dizionari\n",
        "\n",
        "I dizionari sono un tipo di dato strutturato che raramente è presente in altri linguaggi.\n",
        "\n",
        "Un dizionario è una collezione di oggetti che deve essere intesa come **NON ORDINATA**. Nel dizionario non c'è un primo elemento, un secondo, ... e un ultimo elemento.\n",
        "Sul dizionario non è possibile usare la notazione ad indici.\n",
        "\n",
        "Gli elementi sono memorizzati nel dizionario associandoli a ***chiavi***.\n",
        "\n",
        "Un dizionario si definisce indicando un **insieme di coppie di elementi** separate da virgole. In ogni coppia il primo elemento rappresenta la chiave che identifica il secondo elemento della coppia che è il valore vero e proprio.\n",
        "\n",
        "Ecco un esempio di definizione di un dizionario."
      ]
    },
    {
      "metadata": {
        "id": "S42omOlvWuBP",
        "colab_type": "code",
        "colab": {}
      },
      "cell_type": "code",
      "source": [
        "d = {'nome':'Stefano','cognome':'Capezzone','eta':35, 'categoria':'Docente'}\n",
        "print(d)"
      ],
      "execution_count": 0,
      "outputs": []
    },
    {
      "metadata": {
        "id": "bbOhFK3lXcC4",
        "colab_type": "text"
      },
      "cell_type": "markdown",
      "source": [
        "Il dizionario permette di accedere al valore utilizzando la chiave. L'elemento a sinistra dei due punti rappresenta la chiave."
      ]
    },
    {
      "metadata": {
        "id": "KpzFWrzBXlf5",
        "colab_type": "code",
        "colab": {}
      },
      "cell_type": "code",
      "source": [
        "d = {'nome':'Stefano','cognome':'Capezzone','eta':35, 'categoria':'Docente'}\n",
        "print(d['cognome'])"
      ],
      "execution_count": 0,
      "outputs": []
    },
    {
      "metadata": {
        "id": "d-1vxU4zX4Eg",
        "colab_type": "text"
      },
      "cell_type": "markdown",
      "source": [
        "Ad un dizionario possono essere aggiunti elementi"
      ]
    },
    {
      "metadata": {
        "id": "N6b5ZBf2YBgT",
        "colab_type": "code",
        "colab": {}
      },
      "cell_type": "code",
      "source": [
        "d = {'nome':'Stefano','cognome':'Capezzone','eta':35, 'categoria':'Docente'}\n",
        "d['livello']=7\n",
        "print(d)"
      ],
      "execution_count": 0,
      "outputs": []
    },
    {
      "metadata": {
        "id": "-YxTz-TMZNDc",
        "colab_type": "text"
      },
      "cell_type": "markdown",
      "source": [
        "Per rimuovere un oggetto da un dizionario possiamo usare l'operatore *del* che distrugge un oggetto Python"
      ]
    },
    {
      "metadata": {
        "id": "5OaNPWBJY4tR",
        "colab_type": "code",
        "colab": {}
      },
      "cell_type": "code",
      "source": [
        "d = {'nome':'Stefano','cognome':'Capezzone','eta':35, 'categoria':'Docente'}\n",
        "del d['eta']\n",
        "print(d)"
      ],
      "execution_count": 0,
      "outputs": []
    },
    {
      "metadata": {
        "id": "4eUFAeG7Zk--",
        "colab_type": "text"
      },
      "cell_type": "markdown",
      "source": [
        "Osservate gli esempi che seguono per intuire le potenzialità dei dizionari in Python."
      ]
    },
    {
      "metadata": {
        "id": "2fKeJPdHZtAa",
        "colab_type": "code",
        "colab": {}
      },
      "cell_type": "code",
      "source": [
        "released = {\n",
        "\t\t\"iphone\" : 2007,\n",
        "\t\t\"iphone 3G\" : 2008,\n",
        "\t\t\"iphone 3GS\" : 2009,\n",
        "\t\t\"iphone 4\" : 2010,\n",
        "\t\t\"iphone 4S\" : 2011,\n",
        "\t\t\"iphone 5\" : 2012\n",
        "\t}\n",
        "print(released)"
      ],
      "execution_count": 0,
      "outputs": []
    },
    {
      "metadata": {
        "id": "uPjoafElaGG3",
        "colab_type": "code",
        "colab": {}
      },
      "cell_type": "code",
      "source": [
        "released = {\n",
        "\t\t\"iphone\" : 2007,\n",
        "\t\t\"iphone 3G\" : 2008,\n",
        "\t\t\"iphone 3GS\" : 2009,\n",
        "\t\t\"iphone 4\" : 2010,\n",
        "\t\t\"iphone 4S\" : 2011,\n",
        "\t\t\"iphone 5\" : 2012\n",
        "\t}\n",
        "print(len(released))"
      ],
      "execution_count": 0,
      "outputs": []
    },
    {
      "metadata": {
        "id": "5TjXQeOwaWYu",
        "colab_type": "code",
        "colab": {}
      },
      "cell_type": "code",
      "source": [
        "released = {\n",
        "\t\t\"iphone\" : 2007,\n",
        "\t\t\"iphone 3G\" : 2008,\n",
        "\t\t\"iphone 3GS\" : 2009,\n",
        "\t\t\"iphone 4\" : 2010,\n",
        "\t\t\"iphone 4S\" : 2011,\n",
        "\t\t\"iphone 5\" : 2012\n",
        "\t}\n",
        "print('iphone' in released)\n",
        "del released['iphone']\n",
        "print('iphone' in released)\n"
      ],
      "execution_count": 0,
      "outputs": []
    },
    {
      "metadata": {
        "id": "WaANqUpBbCU_",
        "colab_type": "code",
        "colab": {}
      },
      "cell_type": "code",
      "source": [
        "print(released.get(\"iphone 5\",\"Non Trovato\"))"
      ],
      "execution_count": 0,
      "outputs": []
    }
  ]
}