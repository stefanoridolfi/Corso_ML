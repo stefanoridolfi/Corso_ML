{
  "nbformat": 4,
  "nbformat_minor": 0,
  "metadata": {
    "colab": {
      "name": "IntroduzioneColabGoogle.ipynb",
      "version": "0.3.2",
      "provenance": [],
      "private_outputs": true,
      "include_colab_link": true
    },
    "kernelspec": {
      "name": "python3",
      "display_name": "Python 3"
    }
  },
  "cells": [
    {
      "cell_type": "markdown",
      "metadata": {
        "id": "view-in-github",
        "colab_type": "text"
      },
      "source": [
        "<a href=\"https://colab.research.google.com/github/spaziochirale/CorsoPythonML/blob/master/IntroduzioneColabGoogle.ipynb\" target=\"_parent\"><img src=\"https://colab.research.google.com/assets/colab-badge.svg\" alt=\"Open In Colab\"/></a>"
      ]
    },
    {
      "metadata": {
        "id": "Z97R1Neh0QRG",
        "colab_type": "text"
      },
      "cell_type": "markdown",
      "source": [
        "# Introduzione  al progetto Google Colaboratory"
      ]
    },
    {
      "metadata": {
        "id": "mGswc9aK0prA",
        "colab_type": "text"
      },
      "cell_type": "markdown",
      "source": [
        "**Colaboratory** è uno strumento gratuito, offerto da Google, per la ricerca e la formazione nel campo del Machine Learning, disponibile in modalità *Cloud*, basato sul sistema **Jupyter Notebook** .\n",
        "\n",
        "*Jupyter Notebook* è una tecnologia che permette di realizzare e condividere pagine web interattive che contengono celle di codice, che possono essere editate ed eseguite, e blocchi di testo formattati.\n",
        "\n",
        "Un *notebook* costituisce quindi uno strumento molto valido nell'ambito della didattica, perché permette di distribuire agli studenti pagine di appunti interattivi, dove i blocchi di codice sorgente possono essere effettivamente eseguiti per verificare i risultati e modificati per effettuare esperimenti e prove.\n",
        "\n",
        "Un *notebook*  può essere distribuito sotto forma di pagina web, eseguita quindi su un server remoto, oppure sotto forma di file di testo in formato JSON che può essere eseguito sul computer dell'utilizzatore, a patto di aver installato e configurato un server Jupyter.\n",
        "\n",
        "*Colaboratory* di Google offre un server remoto gratuito che ospita un'installazione di Jupyter Server già configurata per eseguire codice in linguaggio Python che utilizza le librerie TensorFlow per lo sviluppo di applicazioni di Intelligenza Artificiale.\n",
        "\n",
        "Grazie a *Colaboratory* non è necessario installare e configurare sul proprio PC un ambiente di sviluppo Python e TensorFlow per seguire il nostro corso di Coding & Machine Learning."
      ]
    },
    {
      "metadata": {
        "id": "EsOBvIkQ5PV-",
        "colab_type": "text"
      },
      "cell_type": "markdown",
      "source": [
        "# Un esempio di notebook Jupyter"
      ]
    },
    {
      "metadata": {
        "id": "awR-BSxn5ZoL",
        "colab_type": "text"
      },
      "cell_type": "markdown",
      "source": [
        "Questo stesso documento è stato realizzato come notebook Jupyter.\n",
        "\n",
        "Quella che segue è una cella attiva di codice.\n",
        "\n",
        "Cliccando sul marcatore a sinistra della cella è possibile eseguire il codice e visualizzare il risultato.\n",
        "Posizionando il cursore nella cella è possibile modificare il codice e rieseguire le istruzioni della cella visualizzandone gli effetti."
      ]
    },
    {
      "metadata": {
        "id": "5MJiP0_M6H8d",
        "colab_type": "code",
        "colab": {}
      },
      "cell_type": "code",
      "source": [
        "a = 5\n",
        "b = 3\n",
        "print(a+b)"
      ],
      "execution_count": 0,
      "outputs": []
    }
  ]
}