{
  "nbformat": 4,
  "nbformat_minor": 0,
  "metadata": {
    "colab": {
      "name": "Untitled0.ipynb",
      "provenance": [],
      "collapsed_sections": [],
      "include_colab_link": true
    },
    "kernelspec": {
      "name": "python3",
      "display_name": "Python 3"
    }
  },
  "cells": [
    {
      "cell_type": "markdown",
      "metadata": {
        "id": "view-in-github",
        "colab_type": "text"
      },
      "source": [
        "<a href=\"https://colab.research.google.com/github/stefanoridolfi/Corso_ML/blob/master/funzione%20retta.ipynb\" target=\"_parent\"><img src=\"https://colab.research.google.com/assets/colab-badge.svg\" alt=\"Open In Colab\"/></a>"
      ]
    },
    {
      "cell_type": "markdown",
      "metadata": {
        "id": "5idaZILLpzL_",
        "colab_type": "text"
      },
      "source": [
        "#1)Generatore di retta"
      ]
    },
    {
      "cell_type": "markdown",
      "metadata": {
        "id": "siuyyFCiqshQ",
        "colab_type": "text"
      },
      "source": [
        "#2)Genera i punti x ed y e stampa la retta\n",
        "Il codice genera 500 valori di x, nell'intervallo da -250 a 250 e calcola i relativi y. Inserisce i valori di x e di y in due diverse liste, lx ed ly. Il calcolo dei valori y è eseguito utilizzando la funzione GenRetta precedente.\n"
      ]
    },
    {
      "cell_type": "markdown",
      "metadata": {
        "id": "v6KBzHZV10vj",
        "colab_type": "text"
      },
      "source": [
        "#3)Genera n punti random con valori compresi fra -250 e 250\n",
        "La funzione genera n punti con coordinate x ed y che hanno valori casuali compresi fra -250 e 250. La funzione ritorna la lista l che è formata da n liste, ognuna delle quali contiene due elementi, i valori della coppia x ed y che sono le coordinate dei punti.\n"
      ]
    },
    {
      "cell_type": "markdown",
      "metadata": {
        "id": "JA0KhAau60tb",
        "colab_type": "text"
      },
      "source": [
        "#4)Disegno la retta, genero punti, coloro i punti a seconda della posizione\n",
        "Con la funzione definita prima disegno la retta di riferimento. Con la funzione di generazione dei punti creo n punti in modo casuale. A seconda del valore della y del punto decido se il punto è posizionato sopra oppure sotto la retta.\n",
        "Se il punto è sopra la retta lo coloro di verde, se il punto è sotto la retta lo coloro di rosso "
      ]
    },
    {
      "cell_type": "markdown",
      "metadata": {
        "id": "d20jJFabk-IE",
        "colab_type": "text"
      },
      "source": [
        "#5)Definisco una funzione che genera casualmente i pesi.\n",
        "La funzione genera i valori dei pesi che dovranno essere associati agli input del perceptron. I pesi hanno valori compresi fra -1 ed 1.I La funzioni ha come input il numero di input del perceptron, n è il parametro della funzione. La funzione restituisce una lista di pesi, con dimensione pari al numero di input."
      ]
    },
    {
      "cell_type": "markdown",
      "metadata": {
        "id": "nTeGyPEwod8v",
        "colab_type": "text"
      },
      "source": [
        "5.1)Test della funzione pesi"
      ]
    },
    {
      "cell_type": "markdown",
      "metadata": {
        "id": "M4lONBlbo8ST",
        "colab_type": "text"
      },
      "source": [
        "#7) Definisco la funzione posizione\n",
        "La funzione ha come input le coordinate del punto e mi restituisce il valore 1 o -1 a seconda che il punto sia sopra oppure sotto la retta di riferimento"
      ]
    },
    {
      "cell_type": "markdown",
      "metadata": {
        "id": "WsF80kPPe70Y",
        "colab_type": "text"
      },
      "source": [
        "# 8)Definisco la funzione back propagation\n",
        "La funzione back propagation ha come parametri di input la lista che contiene le coordinate del punto. La funzione calcola anche il valore corretto per quel punto, la sua posizione usando la funzione posizione. L'output desiderato è il valore 1 o -1 a seconda di dove si trova il punto rispetto alla retta iniziale secondo la quale devo effettuare la classificazione dei punti. Come output la funzione restituisce    restituisce i valori dei pesi, ovvero la lista dei pesi e se la previsione era esatta oppure no. Restitisce il valore 0 se non era un'errore , 1 altrimenti. Ovvero il vaoore 0 se il valore fornito dalla funzione guess coincide o no con il valore reale"
      ]
    },
    {
      "cell_type": "markdown",
      "metadata": {
        "id": "1IDcsPPrpNXE",
        "colab_type": "text"
      },
      "source": [
        ""
      ]
    },
    {
      "cell_type": "markdown",
      "metadata": {
        "id": "z7vw6byAyTk6",
        "colab_type": "text"
      },
      "source": [
        "#XXX) Programma fino a questo punto\n",
        "a) Disegno la retta (punto 1 del foglio)  , ovvero la retta di equazione y=0.5*x+10: che è la retta 0.5x-y+10 =0\n",
        "\n",
        "b) Creo lista punti con coordinate casuali (punto 3 del foglio)\n",
        "\n",
        "c) Creo la lista dei pesi (punto 5 del foglio)\n",
        "\n",
        "d) Per ogni punto generato casualmente calcolo la funzione feed_forward (punto 6 del foglio)\n",
        "\n",
        "e) Disegno il punto generato casualmente e lo coloro. Se la funzione feed_forward mi restituisce il valore 1 assumo che il punto casuale sia sopra la retta ipotetica di separazione e lo coloro di verde. Se mi restituisce il valore -1 assumo che il punto casuale sia sotto la retta ipotetica di separazione e lo coloro di rosso.\n",
        "\n",
        "\n",
        "\n"
      ]
    },
    {
      "cell_type": "code",
      "metadata": {
        "id": "bTp3ZQUy7SLK",
        "colab_type": "code",
        "outputId": "c51fc9b4-4ea1-4d51-8bdd-acefc60946f6",
        "colab": {
          "base_uri": "https://localhost:8080/",
          "height": 1000
        }
      },
      "source": [
        "# Funzione che crea lista punti casuali\n",
        "import random\n",
        "def generaPunti(n):\n",
        "  l=[]\n",
        "  for i in range(0,n):\n",
        "    x=random.random()*500-251\n",
        "    y=random.random()*500-251\n",
        "    l.append([x,y])\n",
        "  return l\n",
        "\n",
        "\n",
        "#Funzione che calcola i valori di y della retta di equazione  y=0.5*x+10\n",
        "def GenRetta(x):\n",
        "  y=0.5*x+10\n",
        "  return y\n",
        "\n",
        "\n",
        "\n",
        "\n",
        "# Funzione lista pesi\n",
        "def pesi(num_input):\n",
        "  import random\n",
        "  pesi=[]\n",
        "  for x in range(0,num_input+1):\n",
        "      valore_peso=random.random()*2-1\n",
        "      pesi.append(valore_peso)\n",
        "  return pesi\n",
        "\n",
        "# Funzione feed_forward\n",
        "def feed_forward(inputs,lista_pesi_infun):\n",
        "  BIAS=1\n",
        "  sum=0\n",
        "  for k in range(1,len(lista_pesi_infun)):\n",
        "    sum=sum+lista_pesi[k]*inputs[k-1]\n",
        "  # il primo elemento della lista_pesi è il peso del BIAS per questo k va da 1, secondo elemento della lista_pesi\n",
        "  sum=sum+BIAS*lista_pesi[0]\n",
        "  #print(\"valore del guess =\", sum)\n",
        "  answer=-1\n",
        "  #y_guess =(-BIAS-inputs[0]*lista_pesi[1]/lista_pesi[2])\n",
        "  #print(\"Y punto=\", inputs[1])\n",
        "  #print(\"y retta guess= \", y_guess)\n",
        "  #print(\"somma dentro la funzione \",sum)\n",
        "  if  sum>0:\n",
        "    answer=1\n",
        "  return (answer,sum)\n",
        "\n",
        "  # Funzione posizione reale del punti rispetto alla retta di riferimento\n",
        "def posiz(inputs):\n",
        "  answer=-1\n",
        "  #valore_reale=0.5*inputs[0]+10-inputs[1]\n",
        "  #print(\"y retta reale= \",GenRetta(inputs[0]))\n",
        "  if inputs[1]>GenRetta(inputs[0]):\n",
        "    answer=1\n",
        "  return answer\n",
        "# \n",
        "#############################################################\n",
        "# Disegno la retta reale\n",
        "import matplotlib.pyplot as pl\n",
        "lx=[]\n",
        "ly=[]\n",
        "for x in range(-250,251):\n",
        "  y=GenRetta(x)\n",
        "  lx.append(x)\n",
        "  ly.append(y)\n",
        "pl.plot(lx,ly)\n",
        "#pl.grid(True)\n",
        "#pl.show()\n",
        "\n",
        "#Genero lista pesi\n",
        "lista_pesi=pesi(2)\n",
        "#print(\"lista pesi=   \", lista_pesi, \"\\n\")\n",
        "\n",
        "# disegno la retta i cui coefficienti sono i pesi + il BIAS\n",
        "import matplotlib.pyplot as pl\n",
        "llx=[]\n",
        "lly=[]\n",
        "for x in range(-250,251):\n",
        "  y=(-lista_pesi[0]-lista_pesi[1]*x)/lista_pesi[2]\n",
        "  llx.append(x)\n",
        "  lly.append(y)\n",
        "pl.plot(llx,lly)\n",
        "#pl.grid(True)\n",
        "#pl.show()\n",
        "############################################################\n",
        "#Genero lista dei  punti casuali\n",
        "lista_punti=generaPunti(30)\n",
        "#print(\"lista punti generati=  \", lista_punti, \"\\n\")\n",
        "\n",
        "\n",
        "#Ad ogni punto della lista dei punti casuali applico la funzione feed_forward\n",
        "#print(\"test feed=  \",feed_forward([10,10]))\n",
        "errori=0\n",
        "for punto in lista_punti:\n",
        "  posizione_reale=posiz(punto)\n",
        "  #print(\"posizione reale del punto  = \",posizione_reale)\n",
        "# guess assumerà il valore 1 o -1 a seconda di dove si trova il punto calcolando la posizione utilizzando i valori dei pesi correnti\n",
        "  guess2=feed_forward(punto,lista_pesi)\n",
        "  guess=guess2[0]\n",
        "  somma=guess2[1]\n",
        " \n",
        "  \n",
        "  print(\"punto\", punto)\n",
        " # print(\"guess del punto= \", guess, \"\\n\")\n",
        "  xp=punto[0]\n",
        "  yp=punto[1]\n",
        "  valore_errore=int(posizione_reale) - int(guess)\n",
        "  if posizione_reale==guess:\n",
        "    formato='go'\n",
        "  else:\n",
        "    formato='ro'\n",
        "    err=posizione_reale-guess\n",
        "    errori=errori+1\n",
        "    lista_pesi[1]=lista_pesi[1]+lista_pesi[1]*err\n",
        "    lista_pesi[2]=lista_pesi[2]+lista_pesi[2]*err\n",
        "    lista_pesi[0]=lista_pesi[0]+lista_pesi[0]*err\n",
        "\n",
        "  #print(\"posizione real= \", posizione_reale, \"posizione guess= \",guess, \"somma=\", somma,\"valore errore= \", valore_errore)\n",
        "  #print(\"a=\", lista_pesi[1], \"b= \", lista_pesi[2], \"c=\",lista_pesi[0], \"m=\", -lista_pesi[1]/lista_pesi[2], \"intercetto= \",lista_pesi[0])\n",
        "  print(\"somma nuovo calcolo= \",lista_pesi[1]*xp+lista_pesi[2]*yp+lista_pesi[0]*1)\n",
        "     #INSERIRE FUNZIONE CHE prende in input i pesi e ritorna i nuovi pesi\n",
        "  # Nuova lista pesi   \n",
        "\n",
        "     # stampo il punto\n",
        " # pl.plot(xp,yp, formato)\n",
        "#pl.grid(True)\n",
        "#pl.show()\n",
        "print(\"errori=\", errori)\n",
        "# Cerco i valori ottimali dei pesi  punto in lista_punti:\n",
        "\n",
        "# disegno la retta i cui coefficienti sono i pesi + il BIAS\n",
        "import matplotlib.pyplot as pl\n",
        "llx=[]\n",
        "lly=[]\n",
        "for x in range(-250,251):\n",
        "  y=(-lista_pesi[0]-lista_pesi[1]*x)/lista_pesi[2]\n",
        "  llx.append(x)\n",
        "  lly.append(y)\n",
        "pl.plot(llx,lly)\n",
        "pl.show()"
      ],
      "execution_count": 58,
      "outputs": [
        {
          "output_type": "stream",
          "text": [
            "punto [194.50649615113946, 43.38773497774298]\n",
            "somma nuovo calcolo=  -158.04906133347708\n",
            "punto [137.51253530710392, 108.88785421340515]\n",
            "somma nuovo calcolo=  -479.03420127781794\n",
            "punto [-178.61232912065216, -15.266538376958067]\n",
            "somma nuovo calcolo=  388.7975378626642\n",
            "punto [-81.5066469013841, 70.16689383935534]\n",
            "somma nuovo calcolo=  35.38893743377991\n",
            "punto [186.17720111704244, -176.93997171958475]\n",
            "somma nuovo calcolo=  -52.7826925614439\n",
            "punto [155.32306499235716, -201.91968123741916]\n",
            "somma nuovo calcolo=  -55.532463573406424\n",
            "punto [-34.27622603872365, 53.72996631965265]\n",
            "somma nuovo calcolo=  30.03706734374716\n",
            "punto [-78.41958100789998, -243.11850660624674]\n",
            "somma nuovo calcolo=  -604.307725366983\n",
            "punto [197.80035271982115, 220.76501828546964]\n",
            "somma nuovo calcolo=  806.4654079307544\n",
            "punto [-138.19791539118486, 145.5936552220361]\n",
            "somma nuovo calcolo=  -34.99402511539104\n",
            "punto [240.66811949728248, -120.12994080352885]\n",
            "somma nuovo calcolo=  -802.1428898532107\n",
            "punto [-55.71507691451393, -223.28529110398244]\n",
            "somma nuovo calcolo=  -1565.812384667402\n",
            "punto [238.57395108099126, 184.85375522591926]\n",
            "somma nuovo calcolo=  2469.204820319714\n",
            "punto [230.44855518863153, 68.57893525844344]\n",
            "somma nuovo calcolo=  -1779.4484932349628\n",
            "punto [146.46081354525302, -62.79376945669307]\n",
            "somma nuovo calcolo=  -545.8591842946885\n",
            "punto [137.3226533159313, 73.27358886988509]\n",
            "somma nuovo calcolo=  -1239.7944943443301\n",
            "punto [-107.65615110930071, -55.7311398861095]\n",
            "somma nuovo calcolo=  -958.3777243665734\n",
            "punto [-202.188062462872, 34.78007135183282]\n",
            "somma nuovo calcolo=  -3101.7367515924448\n",
            "punto [53.282674258847976, 136.69869249736752]\n",
            "somma nuovo calcolo=  3236.36620288653\n",
            "punto [-27.804530974062203, -139.27120628496863]\n",
            "somma nuovo calcolo=  -2800.783392617091\n",
            "punto [-45.91064988727882, 141.3814253452469]\n",
            "somma nuovo calcolo=  1506.673186099089\n",
            "punto [-119.84842877223778, 4.533370600089739]\n",
            "somma nuovo calcolo=  -6304.437259076487\n",
            "punto [77.34077596029357, 91.66688433201864]\n",
            "somma nuovo calcolo=  8791.721350918073\n",
            "punto [164.63672332404587, 57.239012780645965]\n",
            "somma nuovo calcolo=  -11856.111005541536\n",
            "punto [151.466980920791, -128.753099756659]\n",
            "somma nuovo calcolo=  -1916.7370994198488\n",
            "punto [142.23202746195267, -107.02142181775588]\n",
            "somma nuovo calcolo=  -2489.2572123896757\n",
            "punto [-248.25089552308626, 196.9743314911455]\n",
            "somma nuovo calcolo=  3782.724695162044\n",
            "punto [-245.20299686581515, 23.950701682455644]\n",
            "somma nuovo calcolo=  12192.911357913716\n",
            "punto [113.62447658429323, -72.14546152339818]\n",
            "somma nuovo calcolo=  -2654.5696237939196\n",
            "punto [88.59154247636292, -61.680212329121844]\n",
            "somma nuovo calcolo=  -1805.2087837349388\n",
            "errori= 11\n"
          ],
          "name": "stdout"
        },
        {
          "output_type": "display_data",
          "data": {
            "image/png": "[encoded data removed]",
            "text/plain": [
              "<Figure size 432x288 with 1 Axes>"
            ]
          },
          "metadata": {
            "tags": []
          }
        }
      ]
    }
  ]
}