{
  "nbformat": 4,
  "nbformat_minor": 0,
  "metadata": {
    "colab": {
      "name": "Untitled0.ipynb",
      "provenance": [],
      "collapsed_sections": [],
      "include_colab_link": true
    },
    "kernelspec": {
      "name": "python3",
      "display_name": "Python 3"
    }
  },
  "cells": [
    {
      "cell_type": "markdown",
      "metadata": {
        "id": "view-in-github",
        "colab_type": "text"
      },
      "source": [
        "<a href=\"https://colab.research.google.com/github/stefanoridolfi/Corso_ML/blob/master/funzione%20retta.ipynb\" target=\"_parent\"><img src=\"https://colab.research.google.com/assets/colab-badge.svg\" alt=\"Open In Colab\"/></a>"
      ]
    },
    {
      "cell_type": "markdown",
      "metadata": {
        "id": "5idaZILLpzL_",
        "colab_type": "text"
      },
      "source": [
        "#1)Generatore di retta"
      ]
    },
    {
      "cell_type": "code",
      "metadata": {
        "id": "EfuY0KaMp9Em",
        "colab_type": "code",
        "colab": {}
      },
      "source": [
        "def GenRetta(x):\n",
        "  y=0.5*x+10\n",
        "  return y\n",
        "\n"
      ],
      "execution_count": 0,
      "outputs": []
    },
    {
      "cell_type": "markdown",
      "metadata": {
        "id": "siuyyFCiqshQ",
        "colab_type": "text"
      },
      "source": [
        "#2)Genera i punti x ed y e stampa la retta\n",
        "Il codice genera 500 valori di x, nell'intervallo da -250 a 250 e calcola i relativi y. Inserisce i valori di x e di y in due diverse liste, lx ed ly. Il calcolo dei valori y è eseguito utilizzando la funzione GenRetta precedente.\n"
      ]
    },
    {
      "cell_type": "code",
      "metadata": {
        "id": "QnuzBbRBsUUW",
        "colab_type": "code",
        "outputId": "c9d868b8-5657-4de7-eea8-757f1c43f91e",
        "colab": {
          "base_uri": "https://localhost:8080/",
          "height": 265
        }
      },
      "source": [
        "import matplotlib.pyplot as pl\n",
        "lx=[]\n",
        "ly=[]\n",
        "for x in range(-250,251):\n",
        "  y=GenRetta(x)\n",
        "  lx.append(x)\n",
        "  ly.append(y)\n",
        "pl.plot(lx,ly)\n",
        "pl.grid(True)\n",
        "pl.show()"
      ],
      "execution_count": 0,
      "outputs": [
        {
          "output_type": "display_data",
          "data": {
            "image/png": "[encoded data removed]",
            "text/plain": [
              "<Figure size 432x288 with 1 Axes>"
            ]
          },
          "metadata": {
            "tags": []
          }
        }
      ]
    },
    {
      "cell_type": "markdown",
      "metadata": {
        "id": "v6KBzHZV10vj",
        "colab_type": "text"
      },
      "source": [
        "#3)Genera n punti random con valori compresi fra -250 e 250\n",
        "La funzione genera n punti con coordinate x ed y che hanno valori casuali compresi fra -250 e 250. La funzione ritorna la lista l che è formata da n liste, ognuna delle quali contiene due elementi, i valori della coppia x ed y che sono le coordinate dei punti.\n"
      ]
    },
    {
      "cell_type": "code",
      "metadata": {
        "id": "9Br_ZL7M2COs",
        "colab_type": "code",
        "colab": {}
      },
      "source": [
        "import random\n",
        "def generaPunti(n):\n",
        "  l=[]\n",
        "  for i in range(0,n):\n",
        "    x=random.random()*500-251\n",
        "    y=random.random()*500-251\n",
        "    l.append([x,y])\n",
        "  return l\n"
      ],
      "execution_count": 0,
      "outputs": []
    },
    {
      "cell_type": "markdown",
      "metadata": {
        "id": "JA0KhAau60tb",
        "colab_type": "text"
      },
      "source": [
        "#4)Disegno la retta, genero punti, coloro i punti a seconda della posizione\n",
        "Con la funzione definita prima disegno la retta di riferimento. Con la funzione di generazione dei punti creo n punti in modo casuale. A seconda del valore della y del punto decido se il punto è posizionato sopra oppure sotto la retta.\n",
        "Se il punto è sopra la retta lo coloro di verde, se il punto è sotto la retta lo coloro di rosso "
      ]
    },
    {
      "cell_type": "code",
      "metadata": {
        "id": "Z_Z-OtXF7tED",
        "colab_type": "code",
        "outputId": "20d0fdc5-7351-4532-d3d6-0be4353a5566",
        "colab": {
          "base_uri": "https://localhost:8080/",
          "height": 265
        }
      },
      "source": [
        "# Disegno la retta\n",
        "import matplotlib.pyplot as pl\n",
        "lx=[]\n",
        "ly=[]\n",
        "for x in range(-250,251):\n",
        "  y=GenRetta(x)\n",
        "  lx.append(x)\n",
        "  ly.append(y)\n",
        "pl.plot(lx,ly)\n",
        "pl.grid(True)\n",
        "#pl.show()\n",
        "# Genero i punti: creo una lista di coppie di coordinate. Ogni coppia è una lista\n",
        "\n",
        "listaPunti=generaPunti(2000)\n",
        "# Analizzo il valore della y di ogni punto e lo coloro\n",
        "for punto in listaPunti:\n",
        "  x=punto[0]\n",
        "  y=punto[1]\n",
        "  if y<GenRetta(x):\n",
        "    etichetta=\"go\"\n",
        "  else:\n",
        "    etichetta=\"ro\"\n",
        "  pl.plot(x,y,etichetta)\n",
        "    "
      ],
      "execution_count": 0,
      "outputs": [
        {
          "output_type": "display_data",
          "data": {
            "image/png": "[encoded data removed]",
            "text/plain": [
              "<Figure size 432x288 with 1 Axes>"
            ]
          },
          "metadata": {
            "tags": []
          }
        }
      ]
    },
    {
      "cell_type": "markdown",
      "metadata": {
        "id": "d20jJFabk-IE",
        "colab_type": "text"
      },
      "source": [
        "#5)Definisco una funzione che genera casualmente i pesi.\n",
        "La funzione genera i valori dei pesi che dovranno essere associati agli input del perceptron. I pesi hanno valori compresi fra -1 ed 1.I La funzioni ha come input il numero di input del perceptron, n è il parametro della funzione. La funzione restituisce una lista di pesi, con dimensione pari al numero di input."
      ]
    },
    {
      "cell_type": "code",
      "metadata": {
        "id": "nR_aABQIlh66",
        "colab_type": "code",
        "colab": {}
      },
      "source": [
        "def pesi(num_input):\n",
        "  import random\n",
        "  pesi=[]\n",
        "  for x in range(0,num_input+1):\n",
        "      valore_peso=random.random()*2-1\n",
        "      pesi.append(valore_peso)\n",
        "  return pesi\n",
        "\n"
      ],
      "execution_count": 0,
      "outputs": []
    },
    {
      "cell_type": "markdown",
      "metadata": {
        "id": "nTeGyPEwod8v",
        "colab_type": "text"
      },
      "source": [
        "5.1)Test della funzione pesi"
      ]
    },
    {
      "cell_type": "code",
      "metadata": {
        "id": "bmlgrX-IncHa",
        "colab_type": "code",
        "outputId": "48031a21-6b7f-40c1-8ba2-d8e62b916908",
        "colab": {
          "base_uri": "https://localhost:8080/",
          "height": 55
        }
      },
      "source": [
        "lista_pesi=pesi(2)\n",
        "print(\"Dimensioni della lista=  \", len(lista))\n",
        "print(\"valori della lista:  \",lista)"
      ],
      "execution_count": 0,
      "outputs": [
        {
          "output_type": "stream",
          "text": [
            "Dimensioni della lista=   3\n",
            "valori della lista:   [-0.7133171452578404, 0.5348885128617229, -0.8639924548131379]\n"
          ],
          "name": "stdout"
        }
      ]
    },
    {
      "cell_type": "markdown",
      "metadata": {
        "id": "AKI_vlmSojid",
        "colab_type": "text"
      },
      "source": [
        "#6)Definisco una funzione che effettua la previsione dell'output. \n",
        "La funzione ha come input una singola lista contenuta nella lista  delle coordinate dei punti generati casualmente. Ovvero l'input è una singola coordinata (coppia di valori). La funzione, per ogni singolo punto, moltiplica il valore del peso corrispondente per il valore della coordinata, x ed y, presente nella lista composta da 2 elementi. Inoltre visto che il numero dei pesi generati, ovvero la dimensione della lista pesi è il numero di pesi passato come input alla funzioni pesi, più 1, moltiplico il primo peso per la costante di BIAS(pari ad 1 o -1). Ad esempio nel nostro caso il numero di parametri è 2, la x e la y, quindi num_input sulla funzione pesi sarà 2, ma il numero di pesi generati è 3, perchè range andrà da 0 a 2, e quindi assumerà i valori 0,1 e 2.\n",
        "Per controllare questo comportamento esguire il test di pesi al punto 5.1 del foglio. La funzione restituisce il valore 1 oppure -1 a seconda del valore della sommatoria di :sum=BIAS\\*pesi[0]+x\\*pesi[1]+y\\*pesi[2].La funzione ha come input la lista delle coordinate del punto generico che è generato in modo casuale al punto 3) del foglio. La variabile di input della funzione, inputs, è una lista di un numero di elementi pari al numero degli input del perceptron."
      ]
    },
    {
      "cell_type": "code",
      "metadata": {
        "id": "o_-KpBhJsjIk",
        "colab_type": "code",
        "colab": {}
      },
      "source": [
        "def feed_forward(inputs):\n",
        "  for k in range(1,len(lista_pesi)):\n",
        "    sum=sum+lista_pesi[k]*inputs[k]\n",
        "  # il primo elemento della lista_pesi è il peso del BIAS per questo k va da 1, secondo elemento della lista_pesi\n",
        "  sum=sum+BIAS*lista_pesi[0]\n",
        "  if sum >0:\n",
        "    return 1\n",
        "  return -1\n",
        "\n"
      ],
      "execution_count": 0,
      "outputs": []
    },
    {
      "cell_type": "markdown",
      "metadata": {
        "id": "M4lONBlbo8ST",
        "colab_type": "text"
      },
      "source": [
        "#7) Definisco la funzione posizione\n",
        "La funzione ha come input le coordinate del punto e mi restituisce il valore 1 o -1 a seconda che il punto sia sopra oppure sotto la retta di riferimento"
      ]
    },
    {
      "cell_type": "code",
      "metadata": {
        "id": "ch_wguwqprTu",
        "colab_type": "code",
        "colab": {}
      },
      "source": [
        "def posizione(inputs):\n",
        "  if inputs[1]>GenRetta(inputs[0]):\n",
        "    answer=1\n",
        "  else:\n",
        "    answer=0\n",
        "  return(answer)"
      ],
      "execution_count": 0,
      "outputs": []
    },
    {
      "cell_type": "markdown",
      "metadata": {
        "id": "WsF80kPPe70Y",
        "colab_type": "text"
      },
      "source": [
        "# 8)Definisco la funzione back propagation\n",
        "La funzione back propagation ha come parametri di input la lista che contiene le coordinate del punto. La funzione calcola anche il valore corretto per quel punto, la sua posizione usando la funzione posizione. L'output desiderato è il valore 1 o -1 a seconda di dove si trova il punto rispetto alla retta iniziale secondo la quale devo effettuare la classificazione dei punti. Come output la funzione restituisce    restituisce i valori dei pesi, ovvero la lista dei pesi e se la previsione era esatta oppure no. Restitisce il valore 0 se non era un'errore , 1 altrimenti. Ovvero il vaoore 0 se il valore fornito dalla funzione guess coincide o no con il valore reale"
      ]
    },
    {
      "cell_type": "markdown",
      "metadata": {
        "id": "1IDcsPPrpNXE",
        "colab_type": "text"
      },
      "source": [
        ""
      ]
    },
    {
      "cell_type": "code",
      "metadata": {
        "id": "dtnY9W0amzLh",
        "colab_type": "code",
        "colab": {}
      },
      "source": [
        "def back_propagation(inputs):\n",
        "  speed=0.13\n",
        "  guess=feed_forward(inputs) # assumerà il valore 1 o -1 a seconda se il punto è sopra o sotto secondo le previsioni\n",
        "  desired=posizione(inputs)\n",
        "  error=desired-guess \n",
        "  # errore può essere 0 oppure 2, oppre -2\n",
        "  # Ora devo aggiornare la lista dei pesi a seconda che l'errore sia 0 o no\n",
        "  for x in range(len(pesi)):\n",
        "    pesi[x]=pesi[x]+error*speed\n",
        "  if error==0:\n",
        "    presenza_errore=0\n",
        "  else:\n",
        "    presenza_errore=1\n",
        "  return(pesi)\n",
        "\n"
      ],
      "execution_count": 0,
      "outputs": []
    },
    {
      "cell_type": "markdown",
      "metadata": {
        "id": "z7vw6byAyTk6",
        "colab_type": "text"
      },
      "source": [
        "#XXX) Programma fino a questo punto\n",
        "a) Disegno la retta (punto 1 del foglio)  , ovvero la retta di equazione y=0.5*x+10: che è la retta 0.5x-y+10 =0\n",
        "\n",
        "b) Creo lista punti con coordinate casuali (punto 3 del foglio)\n",
        "\n",
        "c) Creo la lista dei pesi (punto 5 del foglio)\n",
        "\n",
        "d) Per ogni punto generato casualmente calcolo la funzione feed_forward (punto 6 del foglio)\n",
        "\n",
        "e) Disegno il punto generato casualmente e lo coloro. Se la funzione feed_forward mi restituisce il valore 1 assumo che il punto casuale sia sopra la retta ipotetica di separazione e lo coloro di verde. Se mi restituisce il valore -1 assumo che il punto casuale sia sotto la retta ipotetica di separazione e lo coloro di rosso.\n",
        "\n",
        "\n",
        "\n"
      ]
    },
    {
      "cell_type": "code",
      "metadata": {
        "id": "bTp3ZQUy7SLK",
        "colab_type": "code",
        "outputId": "2cf60b2e-6124-43a6-bcee-eb4817dff573",
        "colab": {
          "base_uri": "https://localhost:8080/",
          "height": 537
        }
      },
      "source": [
        "# Funzione che crea lista punti casuali\n",
        "import random\n",
        "def generaPunti(n):\n",
        "  l=[]\n",
        "  for i in range(0,n):\n",
        "    x=random.random()*500-251\n",
        "    y=random.random()*500-251\n",
        "    l.append([x,y])\n",
        "  return l\n",
        "#Funzione che calcola i valori di y della retta di equazione  y=0.5*x+10\n",
        "def GenRetta(x):\n",
        "  y=0.5*x+10\n",
        "  return y\n",
        "\n",
        "\n",
        "# Disegno la retta\n",
        "import matplotlib.pyplot as pl\n",
        "lx=[]\n",
        "ly=[]\n",
        "for x in range(-250,251):\n",
        "  y=GenRetta(x)\n",
        "  lx.append(x)\n",
        "  ly.append(y)\n",
        "pl.plot(lx,ly)\n",
        "#pl.grid(True)\n",
        "#pl.show()\n",
        "\n",
        "# Funzione lista pesi\n",
        "def pesi(num_input):\n",
        "  import random\n",
        "  pesi=[]\n",
        "  for x in range(0,num_input+1):\n",
        "      valore_peso=random.random()*2-1\n",
        "      pesi.append(valore_peso)\n",
        "  return pesi\n",
        "\n",
        "# Funzione feed_forward\n",
        "def feed_forward(inputs):\n",
        "  BIAS=1\n",
        "  sum=0\n",
        "  for k in range(1,len(lista_pesi)):\n",
        "    sum=sum+lista_pesi[k]*inputs[k-1]\n",
        "  # il primo elemento della lista_pesi è il peso del BIAS per questo k va da 1, secondo elemento della lista_pesi\n",
        "  sum=sum+BIAS*lista_pesi[0]\n",
        "  #print(\"sum =\", sum)\n",
        "  if sum >0:\n",
        "    return 1\n",
        "  return -1\n",
        "\n",
        "  # Funzione posizione reale del punti rispetto alla retta di riferimento\n",
        "  def posizione(inputs):\n",
        "    if inputs[1]>GenRetta(inputs[0]):\n",
        "      answer=1\n",
        "    else:\n",
        "      answer=0\n",
        "  return(answer)\n",
        "# Funzione back propagation\n",
        "  def back_propagation(inputs,pesi_now):\n",
        "    speed=0.13\n",
        "    desired=posizione(inputs) # posizione reale del punto sopra (1) o sotto(-1) la retta di riferimento\n",
        "    guess=feed_forward(inputs) # assumerà il valore 1 o -1 a seconda se il punto è sopra o sotto secondo le previsto\n",
        "    print(\"reale= \",desired)\n",
        "    print(\"stiamto= \",guess)\n",
        "    error=desired-guess # errore può essere 0 oppure 2, oppre -2\n",
        "    print (\"Errore= \", error)\n",
        "  # Ora devo aggiornare la lista dei pesi a seconda che l'errore sia 0 o no\n",
        "    for x in range(len(pesi_now)):\n",
        "      pesi_now[x]=pesi_now[x]+ pesi_now[x]*error*speed\n",
        "    if error==0:\n",
        "      presenza_errore=0\n",
        "    else:\n",
        "      presenza_errore=1\n",
        "    return(pesi_now)\n",
        "#############################################################\n",
        "\n",
        "\n",
        "#Genero lista dei  punti casuali\n",
        "lista_punti=generaPunti(10)\n",
        "#print(\"lista punti generati=  \", lista_punti, \"\\n\")\n",
        "#Genero lista pesi\n",
        "lista_pesi=pesi(2)\n",
        "print(\"lista pesi=   \", lista_pesi, \"\\n\")\n",
        "#Ad ogni punto della lista dei punti casuali applico la funzione feed_forward\n",
        "#print(\"test feed=  \",feed_forward([10,10]))\n",
        "for punto in lista_punti:\n",
        "# guess assumerà il valore 1 o -1 a seconda di dove si trova il punto calcolando la posizione utilizzando i valori dei pesi correnti\n",
        " guess=feed_forward(punto)\n",
        " #print(\"punto\", punto)\n",
        " #print(\"guess del punto\", guess, \"\\n\")\n",
        " xp=punto[0]\n",
        " yp=punto[1]\n",
        " if guess ==1:\n",
        "   formato='go'\n",
        " else:\n",
        "    formato='ro'\n",
        " # stampo il punto\n",
        " pl.plot(xp,yp, formato)\n",
        "pl.grid(True)\n",
        "pl.show()\n",
        "\n",
        "# Cerco i valori ottimali dei pesi  punto in lista_punti:\n",
        "pesi_curr=lista_pesi\n",
        "for punto in lista_punti:\n",
        "  new_pesi=back_propagation(punto,pesi_curr)\n",
        "  print(\"new pesi= \",new_pesi)\n",
        "  \n",
        "\n"
      ],
      "execution_count": 27,
      "outputs": [
        {
          "output_type": "stream",
          "text": [
            "lista pesi=    [0.22971781545586412, -0.012629862522222979, 0.7310814187668617] \n",
            "\n"
          ],
          "name": "stdout"
        },
        {
          "output_type": "display_data",
          "data": {
            "image/png": "[encoded data removed]",
            "text/plain": [
              "<Figure size 432x288 with 1 Axes>"
            ]
          },
          "metadata": {
            "tags": []
          }
        },
        {
          "output_type": "error",
          "ename": "TypeError",
          "evalue": "ignored",
          "traceback": [
            "\u001b[0;31m---------------------------------------------------------------------------\u001b[0m",
            "\u001b[0;31mTypeError\u001b[0m                                 Traceback (most recent call last)",
            "\u001b[0;32m<ipython-input-27-fcfab9e991bd>\u001b[0m in \u001b[0;36m<module>\u001b[0;34m()\u001b[0m\n\u001b[1;32m    101\u001b[0m \u001b[0mpesi_curr\u001b[0m\u001b[0;34m=\u001b[0m\u001b[0mlista_pesi\u001b[0m\u001b[0;34m\u001b[0m\u001b[0;34m\u001b[0m\u001b[0m\n\u001b[1;32m    102\u001b[0m \u001b[0;32mfor\u001b[0m \u001b[0mpunto\u001b[0m \u001b[0;32min\u001b[0m \u001b[0mlista_punti\u001b[0m\u001b[0;34m:\u001b[0m\u001b[0;34m\u001b[0m\u001b[0;34m\u001b[0m\u001b[0m\n\u001b[0;32m--> 103\u001b[0;31m   \u001b[0mnew_pesi\u001b[0m\u001b[0;34m=\u001b[0m\u001b[0mback_propagation\u001b[0m\u001b[0;34m(\u001b[0m\u001b[0mpunto\u001b[0m\u001b[0;34m,\u001b[0m\u001b[0mpesi_curr\u001b[0m\u001b[0;34m)\u001b[0m\u001b[0;34m\u001b[0m\u001b[0;34m\u001b[0m\u001b[0m\n\u001b[0m\u001b[1;32m    104\u001b[0m   \u001b[0mprint\u001b[0m\u001b[0;34m(\u001b[0m\u001b[0;34m\"new pesi= \"\u001b[0m\u001b[0;34m,\u001b[0m\u001b[0mnew_pesi\u001b[0m\u001b[0;34m)\u001b[0m\u001b[0;34m\u001b[0m\u001b[0;34m\u001b[0m\u001b[0m\n\u001b[1;32m    105\u001b[0m \u001b[0;34m\u001b[0m\u001b[0m\n",
            "\u001b[0;31mTypeError\u001b[0m: back_propagation() takes 1 positional argument but 2 were given"
          ]
        }
      ]
    }
  ]
}