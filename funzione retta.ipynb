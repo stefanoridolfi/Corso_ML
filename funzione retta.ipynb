{
  "nbformat": 4,
  "nbformat_minor": 0,
  "metadata": {
    "colab": {
      "name": "Untitled0.ipynb",
      "provenance": [],
      "collapsed_sections": [],
      "include_colab_link": true
    },
    "kernelspec": {
      "name": "python3",
      "display_name": "Python 3"
    }
  },
  "cells": [
    {
      "cell_type": "markdown",
      "metadata": {
        "id": "view-in-github",
        "colab_type": "text"
      },
      "source": [
        "<a href=\"https://colab.research.google.com/github/stefanoridolfi/Corso_ML/blob/master/funzione%20retta.ipynb\" target=\"_parent\"><img src=\"https://colab.research.google.com/assets/colab-badge.svg\" alt=\"Open In Colab\"/></a>"
      ]
    },
    {
      "cell_type": "markdown",
      "metadata": {
        "id": "5idaZILLpzL_",
        "colab_type": "text"
      },
      "source": [
        "#1)Generatore di retta"
      ]
    },
    {
      "cell_type": "markdown",
      "metadata": {
        "id": "siuyyFCiqshQ",
        "colab_type": "text"
      },
      "source": [
        "#2)Genera i punti x ed y e stampa la retta\n",
        "Il codice genera 500 valori di x, nell'intervallo da -250 a 250 e calcola i relativi y. Inserisce i valori di x e di y in due diverse liste, lx ed ly. Il calcolo dei valori y è eseguito utilizzando la funzione GenRetta precedente.\n"
      ]
    },
    {
      "cell_type": "markdown",
      "metadata": {
        "id": "v6KBzHZV10vj",
        "colab_type": "text"
      },
      "source": [
        "#3)Genera n punti random con valori compresi fra -250 e 250\n",
        "La funzione genera n punti con coordinate x ed y che hanno valori casuali compresi fra -250 e 250. La funzione ritorna la lista l che è formata da n liste, ognuna delle quali contiene due elementi, i valori della coppia x ed y che sono le coordinate dei punti.\n"
      ]
    },
    {
      "cell_type": "markdown",
      "metadata": {
        "id": "JA0KhAau60tb",
        "colab_type": "text"
      },
      "source": [
        "#4)Disegno la retta, genero punti, coloro i punti a seconda della posizione\n",
        "Con la funzione definita prima disegno la retta di riferimento. Con la funzione di generazione dei punti creo n punti in modo casuale. A seconda del valore della y del punto decido se il punto è posizionato sopra oppure sotto la retta.\n",
        "Se il punto è sopra la retta lo coloro di verde, se il punto è sotto la retta lo coloro di rosso "
      ]
    },
    {
      "cell_type": "markdown",
      "metadata": {
        "id": "d20jJFabk-IE",
        "colab_type": "text"
      },
      "source": [
        "#5)Definisco una funzione che genera casualmente i pesi.\n",
        "La funzione genera i valori dei pesi che dovranno essere associati agli input del perceptron. I pesi hanno valori compresi fra -1 ed 1.I La funzioni ha come input il numero di input del perceptron, n è il parametro della funzione. La funzione restituisce una lista di pesi, con dimensione pari al numero di input."
      ]
    },
    {
      "cell_type": "markdown",
      "metadata": {
        "id": "nTeGyPEwod8v",
        "colab_type": "text"
      },
      "source": [
        "5.1)Test della funzione pesi"
      ]
    },
    {
      "cell_type": "markdown",
      "metadata": {
        "id": "M4lONBlbo8ST",
        "colab_type": "text"
      },
      "source": [
        "#7) Definisco la funzione posizione\n",
        "La funzione ha come input le coordinate del punto e mi restituisce il valore 1 o -1 a seconda che il punto sia sopra oppure sotto la retta di riferimento"
      ]
    },
    {
      "cell_type": "markdown",
      "metadata": {
        "id": "WsF80kPPe70Y",
        "colab_type": "text"
      },
      "source": [
        "# 8)Definisco la funzione back propagation\n",
        "La funzione back propagation ha come parametri di input la lista che contiene le coordinate del punto. La funzione calcola anche il valore corretto per quel punto, la sua posizione usando la funzione posizione. L'output desiderato è il valore 1 o -1 a seconda di dove si trova il punto rispetto alla retta iniziale secondo la quale devo effettuare la classificazione dei punti. Come output la funzione restituisce    restituisce i valori dei pesi, ovvero la lista dei pesi e se la previsione era esatta oppure no. Restitisce il valore 0 se non era un'errore , 1 altrimenti. Ovvero il vaoore 0 se il valore fornito dalla funzione guess coincide o no con il valore reale"
      ]
    },
    {
      "cell_type": "markdown",
      "metadata": {
        "id": "1IDcsPPrpNXE",
        "colab_type": "text"
      },
      "source": [
        ""
      ]
    },
    {
      "cell_type": "markdown",
      "metadata": {
        "id": "z7vw6byAyTk6",
        "colab_type": "text"
      },
      "source": [
        "#XXX) Programma fino a questo punto\n",
        "a) Disegno la retta (punto 1 del foglio)  , ovvero la retta di equazione y=0.5*x+10: che è la retta 0.5x-y+10 =0\n",
        "\n",
        "b) Creo lista punti con coordinate casuali (punto 3 del foglio)\n",
        "\n",
        "c) Creo la lista dei pesi (punto 5 del foglio)\n",
        "\n",
        "d) Per ogni punto generato casualmente calcolo la funzione feed_forward (punto 6 del foglio)\n",
        "\n",
        "e) Disegno il punto generato casualmente e lo coloro. Se la funzione feed_forward mi restituisce il valore 1 assumo che il punto casuale sia sopra la retta ipotetica di separazione e lo coloro di verde. Se mi restituisce il valore -1 assumo che il punto casuale sia sotto la retta ipotetica di separazione e lo coloro di rosso.\n",
        "\n",
        "\n",
        "\n"
      ]
    },
    {
      "cell_type": "code",
      "metadata": {
        "id": "bTp3ZQUy7SLK",
        "colab_type": "code",
        "outputId": "e8805499-9260-4f4b-cd91-79b92d596ce3",
        "colab": {
          "base_uri": "https://localhost:8080/",
          "height": 138
        }
      },
      "source": [
        "# Funzione che crea lista punti casuali\n",
        "import random\n",
        "def generaPunti(n):\n",
        "  l=[]\n",
        "  for i in range(0,n):\n",
        "    x=random.random()*500-251\n",
        "    y=random.random()*500-251\n",
        "    l.append([x,y])\n",
        "  return l\n",
        "\n",
        "\n",
        "#Funzione che calcola i valori di y della retta di equazione  y=0.5*x+10\n",
        "def GenRetta(x):\n",
        "  y=0.5*x+10\n",
        "  return y\n",
        "\n",
        "\n",
        "\n",
        "\n",
        "# Funzione lista pesi\n",
        "def pesi(num_input):\n",
        "  import random\n",
        "  pesi=[]\n",
        "  for x in range(0,num_input+1):\n",
        "      valore_peso=random.random()*2-1\n",
        "      pesi.append(valore_peso)\n",
        "  return pesi\n",
        "\n",
        "# Funzione feed_forward\n",
        "def feed_forward(inputs):\n",
        "  BIAS=1\n",
        "  sum=0\n",
        "  for k in range(1,len(lista_pesi)):\n",
        "    sum=sum+lista_pesi[k]*inputs[k-1]\n",
        "  # il primo elemento della lista_pesi è il peso del BIAS per questo k va da 1, secondo elemento della lista_pesi\n",
        "  sum=sum+BIAS*lista_pesi[0]\n",
        "  #print(\"valore del guess =\", sum)\n",
        "  answer=-1\n",
        "  y_guess =(-BIAS-inputs[0]*lista_pesi[1]/lista_pesi[2])\n",
        "  if  y_guess>inputs[1]:\n",
        "    answer=1\n",
        "  return answer\n",
        "\n",
        "  # Funzione posizione reale del punti rispetto alla retta di riferimento\n",
        "def posiz(inputs):\n",
        "  answer=-1\n",
        "  #valore_reale=0.5*inputs[0]+10-inputs[1]\n",
        "  #print(\"Valore reale= \",valore_reale)\n",
        "  if inputs[1]>GenRetta(inputs[0]):\n",
        "    answer=1\n",
        "  return answer\n",
        "# \n",
        "#############################################################\n",
        "# Disegno la retta reale\n",
        "import matplotlib.pyplot as pl\n",
        "lx=[]\n",
        "ly=[]\n",
        "for x in range(-250,251):\n",
        "  y=GenRetta(x)\n",
        "  lx.append(x)\n",
        "  ly.append(y)\n",
        "pl.plot(lx,ly)\n",
        "#pl.grid(True)\n",
        "#pl.show()\n",
        "\n",
        "#Genero lista pesi\n",
        "lista_pesi=pesi(2)\n",
        "print(\"lista pesi=   \", lista_pesi, \"\\n\")\n",
        "\n",
        "# disegno la retta i cui coefficienti sono i pesi + il BIAS\n",
        "import matplotlib.pyplot as pl\n",
        "llx=[]\n",
        "lly=[]\n",
        "for x in range(-250,251):\n",
        "  y=(lista_pesi[0]-lista_pesi[1]*x)/lista_pesi[2]\n",
        "  llx.append(x)\n",
        "  lly.append(y)\n",
        "pl.plot(llx,lly)\n",
        "#pl.grid(True)\n",
        "#pl.show()\n",
        "\n",
        "#Genero lista dei  punti casuali\n",
        "lista_punti=generaPunti(1)\n",
        "#print(\"lista punti generati=  \", lista_punti, \"\\n\")\n",
        "\n",
        "\n",
        "#Ad ogni punto della lista dei punti casuali applico la funzione feed_forward\n",
        "#print(\"test feed=  \",feed_forward([10,10]))\n",
        "errori=0\n",
        "for punto in lista_punti:\n",
        "  posizione_reale=posiz(punto)\n",
        "  print(\"posizione reale del punto  = \",posizione_reale)\n",
        "# guess assumerà il valore 1 o -1 a seconda di dove si trova il punto calcolando la posizione utilizzando i valori dei pesi correnti\n",
        "  guess=feed_forward(punto)\n",
        "  print(\"punto\", punto)\n",
        "  print(\"guess del punto= \", guess, \"\\n\")\n",
        "  xp=punto[0]\n",
        "  yp=punto[1]\n",
        "  #errore=int(posizione_reale) - int(guess)\n",
        "  if posizione_reale==guess:\n",
        "    formato='go'\n",
        "  else:\n",
        "    formato='ro'\n",
        "    errori=errori+1\n",
        "     # stampo il punto\n",
        "  pl.plot(xp,yp, formato)\n",
        "pl.grid(True)\n",
        "pl.show()\n",
        "print(\"errori=\", errori)\n",
        "# Cerco i valori ottimali dei pesi  punto in lista_punti:\n",
        "\n"
      ],
      "execution_count": 100,
      "outputs": [
        {
          "output_type": "error",
          "ename": "IndentationError",
          "evalue": "ignored",
          "traceback": [
            "\u001b[0;36m  File \u001b[0;32m\"<ipython-input-100-b0579d2f56d9>\"\u001b[0;36m, line \u001b[0;32m39\u001b[0m\n\u001b[0;31m    if  y_guess>inputs[1]:\u001b[0m\n\u001b[0m    ^\u001b[0m\n\u001b[0;31mIndentationError\u001b[0m\u001b[0;31m:\u001b[0m unexpected indent\n"
          ]
        }
      ]
    }
  ]
}