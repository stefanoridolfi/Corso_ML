{
  "nbformat": 4,
  "nbformat_minor": 0,
  "metadata": {
    "colab": {
      "name": "ObjectOriented.ipynb",
      "version": "0.3.2",
      "provenance": [],
      "private_outputs": true,
      "collapsed_sections": [],
      "include_colab_link": true
    },
    "kernelspec": {
      "name": "python3",
      "display_name": "Python 3"
    }
  },
  "cells": [
    {
      "cell_type": "markdown",
      "metadata": {
        "id": "view-in-github",
        "colab_type": "text"
      },
      "source": [
        "<a href=\"https://colab.research.google.com/github/spaziochirale/CorsoPythonML/blob/master/ObjectOriented.ipynb\" target=\"_parent\"><img src=\"https://colab.research.google.com/assets/colab-badge.svg\" alt=\"Open In Colab\"/></a>"
      ]
    },
    {
      "metadata": {
        "id": "G1jUXarrtZyo",
        "colab_type": "text"
      },
      "cell_type": "markdown",
      "source": [
        "# IL PARADIGMA DI PROGRAMMAZIONE OBJECT ORIENTED\n",
        "\n",
        "In questa lezione affronteremo il tema della programmazione ad oggetti. Seguendo il nostro metodo eviteremo qualunque tipo di premessa formale, limitandoci ad osservare che, come accaduto in tutti i passaggi storici nell'evoluzione dell'Ingegneria del Software, anche questo stile di programmazione risponde all'esigenza di migliorare la qualità del processo di sviluppo dei sistemi complessi.\n",
        "\n",
        "L'Object Oriented è innanzitutto uno stile di progettazione. Un linguaggio ad oggetti è un linguaggio che facilita e rinforza questo stile.\n",
        "\n",
        "Partiamo quindi con un esempio pratico.\n"
      ]
    },
    {
      "metadata": {
        "id": "yTbYUnI0uf78",
        "colab_type": "text"
      },
      "cell_type": "markdown",
      "source": [
        "## Un sistema per gestire un database di studenti e docenti\n",
        "\n",
        "Immaginiamo di voler realizzare un sistema per gestire una realtà come il **Centro di Formazione dello Spazio Chirale**, dove vengono programmati dei ***corsi***, ogni corso ha uno o più ***docenti*** e ad ogni corso si iscrive un certo numero di ***studenti***.\n",
        "\n",
        "Ciascuna di queste entità: ***corsi***, ***studenti*** e ***docenti*** ha delle sue proprietà, o attributi, che ne definiscono le caratteristiche anagrafiche e tra le diverse entità vi sono delle *relazioni*: i **docenti** *insegnano* nei **corsi**, gli **studenti** *sono iscritti* ai **corsi**.\n",
        "\n",
        "Un sistema software gestionale è uno strumento che permette di inserire nuove entità, modificare le relative proprietà, attribuire e modificare relazioni tra entità, ...\n",
        "\n",
        "Per realizzare un sistema software di questo tipo il progettista dovrà modellare le diverse entità e le relazioni tra di esse e definire le funzioni per la manipolazione dei dati."
      ]
    },
    {
      "metadata": {
        "id": "6e57CeYhwE1c",
        "colab_type": "text"
      },
      "cell_type": "markdown",
      "source": [
        "## Iniziamo a modellare l'entità \"Studente\"\n",
        "\n",
        "Una categoria (o tipo) di dati in un linguaggio OO è una CLASSE. \n",
        "\n",
        "Definiamo la classe Studente."
      ]
    },
    {
      "metadata": {
        "id": "ybzhp_Riwn5F",
        "colab_type": "code",
        "colab": {}
      },
      "cell_type": "code",
      "source": [
        "class Studente:\n",
        "  pass"
      ],
      "execution_count": 0,
      "outputs": []
    },
    {
      "metadata": {
        "id": "nRa9AadTwuSz",
        "colab_type": "text"
      },
      "cell_type": "markdown",
      "source": [
        "Tramite la parola ***class*** in Python viene definita una CLASSE, cioè un nuovo tipo di dati. Poiché al momento non abbiamo la necessità di scrivere alcun codice per la classe Studente, ma è sufficiente che l'interprete sappia della sua esistenza, abbiamo utilizzato la parola chiave ***pass*** che in Python è semplicemente un segnaposto che permette di rispettare la sintassi senza scrivere niente di significativo.\n",
        "\n",
        "Definiamo ora due OGGETTI appartenenti alla classe Studente. Gli oggetti in Python sono quelli che finora abbiamo chiamato semplicemente variabili.\n",
        "Quando dobbiamo definire oggetti appartenenti ad una classe definita da noi, si usa la sintassi seguente:"
      ]
    },
    {
      "metadata": {
        "id": "i3Zolr9ix-ez",
        "colab_type": "code",
        "colab": {}
      },
      "cell_type": "code",
      "source": [
        "stud1 = Studente()\n",
        "stud2 = Studente()"
      ],
      "execution_count": 0,
      "outputs": []
    },
    {
      "metadata": {
        "id": "PIXlFRfryN3r",
        "colab_type": "text"
      },
      "cell_type": "markdown",
      "source": [
        "Utilizzando la funzione ***print*** possiamo verificare che sono stati creati i due oggetti. La funzione fornisce come output un indirizzo di memoria e l'indicazione della classe. Inutile al momento, ma ci fa capire che i due oggetti sono stati creati."
      ]
    },
    {
      "metadata": {
        "id": "X9f6aOSAyfcI",
        "colab_type": "code",
        "colab": {}
      },
      "cell_type": "code",
      "source": [
        "print(stud1)\n",
        "print(stud2)"
      ],
      "execution_count": 0,
      "outputs": []
    },
    {
      "metadata": {
        "id": "gT6wHD_hynmX",
        "colab_type": "text"
      },
      "cell_type": "markdown",
      "source": [
        "Una volta creati i due oggetti, possiamo aggiungere delle proprietà agli oggetti, cioè degli ***attributi***, sotto forma di variabili (o oggetti) appartenenti a tipi (cioè a classi) già noti."
      ]
    },
    {
      "metadata": {
        "id": "6dUFGIwFy8L0",
        "colab_type": "code",
        "colab": {}
      },
      "cell_type": "code",
      "source": [
        "stud1.nome = \"Mario\"\n",
        "stud1.cognome = \"Rossi\"\n",
        "stud1.email = \"mario.rossi@chirale.it\"\n",
        "\n",
        "stud2.nome = \"Luca\"\n",
        "stud2.cognome = \"Bianchi\"\n",
        "stud2.email = \"luca.bianchi@chirale.it\""
      ],
      "execution_count": 0,
      "outputs": []
    },
    {
      "metadata": {
        "id": "eCOmZmbdzDnI",
        "colab_type": "text"
      },
      "cell_type": "markdown",
      "source": [
        "A questo punto possiamo stampare le proprietà dei singoli oggetti. In pratica effettuiamo la prima rudimentale stampa dell'anagrafica."
      ]
    },
    {
      "metadata": {
        "id": "ohG8EdbgzSkP",
        "colab_type": "code",
        "colab": {}
      },
      "cell_type": "code",
      "source": [
        "print(stud1.nome,stud1.cognome,stud1.email)\n",
        "print(stud2.nome,stud2.cognome,stud2.email)"
      ],
      "execution_count": 0,
      "outputs": []
    },
    {
      "metadata": {
        "id": "g_76QlZ3zchx",
        "colab_type": "text"
      },
      "cell_type": "markdown",
      "source": [
        "Possiamo provare ad aggiungere attributi e a modificare quelli esistenti. Il lettore è invitato ad effettuare prove ed esperimenti nella cella di codice sottostante."
      ]
    },
    {
      "metadata": {
        "id": "JEX0VCm-zr4i",
        "colab_type": "code",
        "colab": {}
      },
      "cell_type": "code",
      "source": [
        "stud1.eta=23\n",
        "print(stud1.nome, stud1.cognome, stud1.eta)\n",
        "stud1.nome='Giovanni'\n",
        "print(stud1.nome, stud1.cognome, stud1.eta)"
      ],
      "execution_count": 0,
      "outputs": []
    },
    {
      "metadata": {
        "id": "yyVicJTv1eKc",
        "colab_type": "text"
      },
      "cell_type": "markdown",
      "source": [
        "## Inizializzatore di una classe\n",
        "\n",
        "La tecnica utilizzata sopra per definire gli attributi dei singoli oggetti non è quella che viene solitamente utilizzata. Diciamo anche che non è una tecnica raccomandabile, poiché in un sistema ben progettato i nomi degli attributi utilizzati per tutti gli oggetti della stessa classe dovrebbero essere sempre gli stessi. Nulla vieta nell'esempio riportato sopra di definire l'attributo NOME nel primo oggetto e l'attributo NAME (scritto quindi in modo diverso) nel secondo oggetto. Una tale scelta sarebbe ovviamente un pasticcio costringendoci a scrivere funzioni diverse e *ad hoc* per stampare l'anagrafica di ciascun oggetto.\n",
        "Se qundi la scelta di progettare gli oggetti di una stessa classe in modo che abbiano sempre gli stessi attributi è una cosa buona, occorre un meccanismo che prevenga errori involontari.\n",
        "\n",
        "Tramite l'inizializzatore è possibile definire le proprietà degli oggetti appartenente ad una classe in modo centralizzato.\n",
        "\n",
        "l'INIZIALIZZATORE (in altri linguaggi chiamato COSTRUTTORE) è una funzione che viene automaticamente invocata quando si definisce un oggetto.\n",
        "\n",
        "Ecco come definire meglio la classe STUDENTE facendo uso dell'inizializzatore. Il nome dell'inizializzatore di una classe deve essere sempre **\\_\\_init\\_\\_**"
      ]
    },
    {
      "metadata": {
        "id": "QwBPvrQA3k0F",
        "colab_type": "code",
        "colab": {}
      },
      "cell_type": "code",
      "source": [
        "class Studente:\n",
        "    def __init__(self,nome,cognome):    \n",
        "        self.nome = nome\n",
        "        self.cognome = cognome\n",
        "        self.email = nome.lower()+\".\"+cognome.lower()+\"@chirale.it\"\n",
        "        "
      ],
      "execution_count": 0,
      "outputs": []
    },
    {
      "metadata": {
        "id": "4uHLUbKP3w5h",
        "colab_type": "text"
      },
      "cell_type": "markdown",
      "source": [
        "Questa funzione sarà sempre automaticamente chiamata quando si definirà un oggetto della classe STUDENTE. L'interprete Python allocherà lo spazio di memoria per l'oggetto e poi passerà il riferimento all'oggetto (cioè alla sua area di memoria) appena creato alla funzione \\_\\_init\\_\\_ definita all'interno della classe, valorizzando il parametro ***self***, che è sempre il primo parametro di tutte le funzioni definite all'interno di una classe.\n",
        "\n",
        "Poiché il parametro ***self*** viene sempre valorizzato dall'interprete con il giusto riferimento, nella sintassi di definizione dell'oggetto tale parametro non compare. Ecco quindio come creare i due oggetti dell'esempio precedente facendo uso dell'inizializzatore della classe."
      ]
    },
    {
      "metadata": {
        "id": "cBWpPSM34_v6",
        "colab_type": "code",
        "colab": {}
      },
      "cell_type": "code",
      "source": [
        "stud1 = Studente(\"Mario\",\"Rossi\")     \n",
        "stud2 = Studente(\"Luca\",\"Bianchi\")"
      ],
      "execution_count": 0,
      "outputs": []
    },
    {
      "metadata": {
        "id": "Kq2S_7R25JAn",
        "colab_type": "text"
      },
      "cell_type": "markdown",
      "source": [
        "A questo punto stampiamo le due anagrafiche per gli oggetti appena crerati."
      ]
    },
    {
      "metadata": {
        "id": "x9QRIQZx5ROX",
        "colab_type": "code",
        "colab": {}
      },
      "cell_type": "code",
      "source": [
        "print(stud1.nome,stud1.cognome,stud1.email)\n",
        "print(stud2.nome,stud2.cognome,stud2.email)"
      ],
      "execution_count": 0,
      "outputs": []
    },
    {
      "metadata": {
        "id": "lwJ_WeVn5jCS",
        "colab_type": "text"
      },
      "cell_type": "markdown",
      "source": [
        "## Metodi\n",
        "\n",
        "Abbiamo appena visto che un oggetto è un nuovo tipo di dato, solitamente costituito da uno o più dati chiamati ATTRIBUTI. Abbiamo anche visto che è possibile definire durante la definizione della classe una funzione che viene richiamata ogni volta che si definisce un nuovo oggetto e che riceve l'oggetto appena creato come primo parametro. Tale funzione effettua delle operazioni sull'oggetto, in questo caso di inizializzazione.\n",
        "\n",
        "La possibilità di definire a livello di classe delle funzioni che possono essere invocate e riferite all'oggetto specifico per ogni oggetto definito come appartenente a tale classe è la seconda importante caratteristica del paradigma Object Oriented.\n",
        "\n",
        "Definire ATTRIBUTI e FUNZIONI all'interno di una classe e qundi ottenere OGGETTI che incorporano come proprietà sia DATI che FUNZIONI è chiamato **INCAPSULAMENTO**.\n",
        "\n",
        "Le funzioni definite in questo modo, che sono quindi PROPRIETÀ dei singoli OGGETTI si chiamano **METODI**.\n",
        "\n",
        "Facciamo subito un esempio.\n",
        "\n",
        "Come abbiamo già visto, è utile nel software che stiamo pian piano progettando stampare l'anagrafica di un oggetto della classe STUDENTE. Possiamo quindi definire un ***metodo*** per rispondere a questa esigenza.\n",
        "\n",
        "Ecco la ridefinizione della classe STUDENTE con l'aggiunta di un ***metodo***.\n"
      ]
    },
    {
      "metadata": {
        "id": "k7PYCqQy8Ik2",
        "colab_type": "code",
        "colab": {}
      },
      "cell_type": "code",
      "source": [
        "class Studente:\n",
        "    def __init__(self,nome,cognome):   \n",
        "        self.nome = nome\n",
        "        self.cognome = cognome\n",
        "        self.email = nome.lower()+\".\"+cognome.lower()+\"@chirale.it\"\n",
        "\n",
        "    def stampaScheda(self):\n",
        "        print(\"\\n     Scheda anagrafica studente\\n\")\n",
        "        print(\"Nome:\\t\\t\",self.nome)\n",
        "        print(\"Cognome:\\t\",self.cognome)\n",
        "        print(\"E-mail:\\t\",self.email)"
      ],
      "execution_count": 0,
      "outputs": []
    },
    {
      "metadata": {
        "id": "YXYatdM68RSO",
        "colab_type": "text"
      },
      "cell_type": "markdown",
      "source": [
        "Anche in questo caso, il primo parametro della funzione appena definita deve essere ***self*** che sarà automaticamente valorizzato dall'interprete Python con il riferimento all'oggetto stesso, cioè all'oggetto attraverso il quale chiamiamo il metodo ***stampaScheda*** come si vede nell'esempio che segue."
      ]
    },
    {
      "metadata": {
        "id": "chYW1mQb8q9v",
        "colab_type": "code",
        "colab": {}
      },
      "cell_type": "code",
      "source": [
        "stud1 = Studente(\"Mario\",\"Rossi\")\n",
        "stud2 = Studente(\"Luca\",\"Bianchi\")\n",
        "stud1.stampaScheda()\n",
        "stud2.stampaScheda()\n"
      ],
      "execution_count": 0,
      "outputs": []
    },
    {
      "metadata": {
        "id": "WiV9jHTM92_n",
        "colab_type": "text"
      },
      "cell_type": "markdown",
      "source": [
        "## Sfruttare l'incapsulamento e progettare le interfacce. Il concetto di API in salsa Object Oriented\n",
        "\n",
        "Una volta che un linguaggio come il Python fornisce un meccanismo per incapsulare oggetti e funzioni all'interno di un'unica classe possiamo sfruttare il meccanismo per progettare moduli di software che facilitino manutenzione e riuso del software.\n",
        "\n",
        "In particolare è buona norma identificare bene le proprietà delle entità che fanno parte del modello di dati-funzioni del proprio progetto e realizzare un insieme di metopdi con cui manipolare i diversi attributi che fanno parte degli oggetti di ciascuna classe, mascherando i dettagli implementativi.\n",
        "\n",
        "Se i metodi sono ben progettati in termini di nomi attribuiti alle funzioni e lista di parametri, il programmatore sarà libero in futuro di modificare il codice all'interno delle sue classi senza compromettere il software scritto da altri programmatori che utilizzano tali classi, a patto di non modificare nomi e parametri dei metodi resi noti e documentati nell'ambito del progetto.\n",
        "\n",
        "Normalmente si preferisce rendere noti i metodi piuttosto che gli attributi e definire metodi per ciascuna operazione prevista sugli attributi interni.\n",
        "\n",
        "Vediamo un caso concreto, introducendo il concetto di *corso* e *iscrizione al corso* nel nostro software di esempio.\n",
        "\n",
        "Ecco una nuova e più ricca definizione della classe STUDENTE. Il corso in questo esempio è semplicemente identificato dal suo titolo. Per brevità non modelliamo l'entità CORSO in modo più complesso."
      ]
    },
    {
      "metadata": {
        "id": "mu8uOheeAxhi",
        "colab_type": "code",
        "colab": {}
      },
      "cell_type": "code",
      "source": [
        "class Studente:\n",
        "    def __init__(self,nome,cognome):    \n",
        "        self.nome = nome\n",
        "        self.cognome = cognome\n",
        "        self.email = nome.lower()+\".\"+cognome.lower()+\"@chirale.it\"\n",
        "        self.iscrizioni = []       \n",
        "\n",
        "    def stampaScheda(self):\n",
        "        print(\"\\n     Scheda anagrafica studente\\n\")\n",
        "        print(\"Nome:\\t\\t\",self.nome)\n",
        "        print(\"Cognome:\\t\",self.cognome)\n",
        "        print(\"E-mail:\\t\\t\",self.email)\n",
        "        if len(self.iscrizioni) == 0:\n",
        "            print(\"Non risultano iscrizioni a corsi\")\n",
        "        else:\n",
        "            print(\"Iscrizione ai corsi:\")\n",
        "            for corso in self.iscrizioni:\n",
        "                print(\"\\t\"+corso)\n",
        "\n",
        "    def iscriviCorso(self,corso):\n",
        "        self.iscrizioni.append(corso)\n",
        "\n",
        "    def cancellaCorso(self, corso):\n",
        "        self.iscrizioni.remove(corso)"
      ],
      "execution_count": 0,
      "outputs": []
    },
    {
      "metadata": {
        "id": "g71LgoBdA8wI",
        "colab_type": "text"
      },
      "cell_type": "markdown",
      "source": [
        "Per rappresentare la lista dei corsi a cui è iscritto uno studente abbiamo utilizzato ovviamente un oggetto di tipo ***lista***.\n",
        "Quando creeremo un oggetto la lista sarà inizialmente vuota, per cui l'inizializzatore ha solo il compito di creare l'attributo ***iscrizioni***.\n",
        "Il popolamento della lista ***iscrizioni*** e la sua manipolazione abbiamo deciso di demandarla a due metodi specifici chiamati ***iscriviCorso*** e ***cancellaCorso***.\n",
        "\n",
        "Nella cella di codice che segue vengono creati i due oggetti della classe Studente visti fin'ora negli esempi e viene mostrato come popolare correttamente l'anagrafica del nostro sistema attribuendo le iscrizioni ai corsi.\n",
        "\n",
        "Il lettore è invitato a sperimentare modificando il codice a suo piacimento."
      ]
    },
    {
      "metadata": {
        "id": "By6mZ999CmNU",
        "colab_type": "code",
        "colab": {}
      },
      "cell_type": "code",
      "source": [
        "stud1 = Studente(\"Mario\",\"Rossi\")\n",
        "stud2 = Studente(\"Luca\",\"Bianchi\")\n",
        "\n",
        "stud1.iscriviCorso(\"Coding in Python\")\n",
        "stud1.iscriviCorso(\"Arduino Base\")\n",
        "stud1.iscriviCorso(\"Quaderni di Elettronica\")\n",
        "stud1.iscriviCorso(\"Resine e Stampi\")\n",
        "\n",
        "stud2.iscriviCorso(\"Coding in Python\")\n",
        "stud2.iscriviCorso(\"Stampa 3D\")\n",
        "stud2.iscriviCorso(\"Quaderni di Elettronica\")\n",
        "\n",
        "\n",
        "stud1.stampaScheda()\n",
        "stud2.stampaScheda()"
      ],
      "execution_count": 0,
      "outputs": []
    },
    {
      "metadata": {
        "id": "alRf20JWFT3R",
        "colab_type": "text"
      },
      "cell_type": "markdown",
      "source": [
        "## Modelliamo la nuova classe \"Docente\"\n",
        "\n",
        "Utilizzando esattamente le stesse tecniche apprese negli esempi precedenti per definire attributi e metodi della classe \"Docente\".\n",
        "\n",
        "Anche in questo caso definizmo i metodi per la stampa dei dati anagrafici e la gestione dei corsi assegnati ai docenti.\n",
        "\n",
        "Il codice che segue dovrebbe essere facilmente e completamente comprensibile."
      ]
    },
    {
      "metadata": {
        "id": "0NPNbVSgGBso",
        "colab_type": "code",
        "colab": {}
      },
      "cell_type": "code",
      "source": [
        "class Docente:\n",
        "    def __init__(self,nome,cognome):    \n",
        "        self.nome = nome\n",
        "        self.cognome = cognome\n",
        "        self.email = nome.lower()+\".\"+cognome.lower()+\"@chirale.it\"\n",
        "        self.docenze = []       \n",
        "\n",
        "    def stampaScheda(self):\n",
        "        print(\"\\n     Scheda anagrafica docente\\n\")\n",
        "        print(\"Nome:\\t\\t\",self.nome)\n",
        "        print(\"Cognome:\\t\",self.cognome)\n",
        "        print(\"E-mail:\\t\\t\",self.email)\n",
        "        if len(self.docenze) == 0:\n",
        "            print(\"Non risultano docenze attive\")\n",
        "        else:\n",
        "            print(\"Docente dei corsi:\")\n",
        "            for corso in self.docenze:\n",
        "                print(\"\\t\"+corso)\n",
        "\n",
        "    def assegnaCorso(self,corso):\n",
        "        self.docenze.append(corso)\n",
        "\n",
        "    def cancellaCorso(self, corso):\n",
        "        self.docenze.remove(corso)\n",
        "        \n",
        "# Creo due oggetti della classe docente inizializzando gli attributi\n",
        "\n",
        "prof1 = Docente(\"Stefano\",\"Capezzone\")\n",
        "prof2 = Docente(\"Rosita\",\"Esposito\")\n",
        "\n",
        "# Assegno le docenze\n",
        "\n",
        "prof1.assegnaCorso(\"Coding in Python\")\n",
        "prof1.assegnaCorso(\"Arduino Base\")\n",
        "prof1.assegnaCorso(\"Quaderni di Elettronica\")\n",
        "prof2.assegnaCorso(\"Resine e Stampi\")\n",
        "prof2.assegnaCorso(\"Stampa 3D\")\n",
        "prof2.assegnaCorso(\"Quaderni di Elettronica\")\n",
        "\n",
        "# Stampiamo le schede anagrafiche dei due docenti\n",
        "\n",
        "prof1.stampaScheda()\n",
        "prof2.stampaScheda()\n",
        "\n"
      ],
      "execution_count": 0,
      "outputs": []
    },
    {
      "metadata": {
        "id": "8m1JqMlmGbDE",
        "colab_type": "text"
      },
      "cell_type": "markdown",
      "source": [
        "## Generalizzazione ed Ereditarietà\n",
        "\n",
        "Dall'analisi del codice, ma anche dalla definizione delle specifiche sul modello dati-funzioni è abbastanza evidente che le due classi *Studente* e *Docente* si assomigliano molto. In particolare hanno molto codice in comune.\n",
        "\n",
        "La ridondanza nel codice non è una cosa buona.\n",
        "\n",
        "Per ottimizzare il nostro progetto è utile applicare un meccanismo di astrazione chiamato GENERALIZZAZIONE.\n",
        "\n",
        "Attraverso la generalizzazione si cerca di individuare una classe che sia sufficientemente generale da comprendere due o più classi identificate nell'analisi.\n",
        "\n",
        "Nel nostro caso è facile vedere che sia gli studenti che i docenti hanno un nome, un cognome e un indirizzo e-mail. Per quanto visto fino ad ora hanno semplicemente lievi differenze riguardo alla relazione con i corsi e una terminologia specifica relativa al ruolo.\n",
        "\n",
        "Inoltre, ragionando in termini di espansioni future del nostro software potremmo voler gestire nello stesso sistema anche altre figure professionali come ad esempio gli impiegati amministrativi che avranno sempre attributi come nome, cognome, indirizzo e-mail oltre ad attributi specifici per il proprio ruolo.\n",
        "\n",
        "A questo punto risulta opportuno definire una classe più generale di cui studenti e professori siano specializzazioni. La SPECIALIZZAZIONE è il meccanismo di verso opposto rispetto alla generalizzazione.\n",
        "\n",
        "Come potremmo chiamare la classe che raggruppa le caratteristiche comuni delle classi *Studente* e *Docente*?\n",
        "\n",
        "Una possibile risposta è nell'esempio seguente."
      ]
    },
    {
      "metadata": {
        "id": "YuqnxKdHt7an",
        "colab_type": "code",
        "colab": {}
      },
      "cell_type": "code",
      "source": [
        "class Persona:\n",
        "    def __init__(self,nome,cognome):    \n",
        "        self.nome = nome\n",
        "        self.cognome = cognome\n",
        "        self.email = nome.lower()+\".\"+cognome.lower()+\"@chirale.it\"\n",
        " \n",
        "    def stampaScheda(self):\n",
        "        print(\"Nome:\\t\\t\",self.nome)\n",
        "        print(\"Cognome:\\t\",self.cognome)\n",
        "        print(\"E-mail:\\t\\t\",self.email)"
      ],
      "execution_count": 0,
      "outputs": []
    },
    {
      "metadata": {
        "id": "erAvIpcxuDKI",
        "colab_type": "text"
      },
      "cell_type": "markdown",
      "source": [
        "La classe *Persona*, sopra definita, contiene esattamente le caratteristiche comuni alle due classi progettate precedentemente.\n",
        "Anche nella definizione del metodo stampaScheda sono state inserite solo le parti di codice comuni alle due classi.\n",
        "\n",
        "Siamo arrivati a definire la classe *Persona* per generalizzazione delle classi *Studente* e *Docente*.\n",
        "\n",
        "Vediamo ora come è possibile derivare una classe (*sottoclasse*) per specializzazione di una classe di partenza (*superclasse*).\n",
        "\n",
        "La sintassi Python per definire una classe derivata è mostrata nell'esempio che segue, assieme al meccanismo utilizzato per definire i metodi specializzati."
      ]
    },
    {
      "metadata": {
        "id": "4xWKgVbAvGlR",
        "colab_type": "code",
        "colab": {}
      },
      "cell_type": "code",
      "source": [
        "class Docente(Persona):                 \n",
        "    def __init__(self,nome,cognome):    \n",
        "        super().__init__(nome,cognome)  \n",
        "        self.docenze = []\n",
        "\n",
        "    def stampaScheda(self):\n",
        "        print(\"\\n     Scheda anagrafica docente\\n\")\n",
        "        super().stampaScheda()\n",
        "        if len(self.docenze) == 0:\n",
        "            print(\"Non risultano docenze attive\")\n",
        "        else:\n",
        "            print(\"Docente dei corsi:\")\n",
        "            for corso in self.docenze:\n",
        "                print(\"\\t\"+corso)\n",
        "\n",
        "    def assegnaCorso(self,corso):\n",
        "        self.docenze.append(corso)\n",
        "\n",
        "    def cancellaCorso(self, corso):\n",
        "        self.docenze.remove(corso)"
      ],
      "execution_count": 0,
      "outputs": []
    },
    {
      "metadata": {
        "id": "dCMqSKf3vaQ4",
        "colab_type": "text"
      },
      "cell_type": "markdown",
      "source": [
        "Il codice riportato sopra richiede qualche spiegazione.\n",
        "\n",
        "Indicando tra parentesi nella clausola ***class*** dopo il nome della classe che si sta definendo il nome di una classe esistente, si specifica all'interprete Python che la nuova classe è una *classe derivata*, cioè una *sottoclasse*, della classe indicata tra le parentesi.\n",
        "\n",
        "Come primo effetto, la nuova classe *eredita* tutte le definizioni della *classe padre* (*superclasse*).\n",
        "\n",
        "Se nel corpo della classe figlia definiamo un metodo, questo sovrascrive il metodo della classe padre, se esiste con lo stesso nome, oppure lo definisce ex novo esclusivamente per la classe figlia.\n",
        "\n",
        "Durante la ridefinizione di un metodo è possibile richiamare un metodo della classe padre indicando nel nome della funzione esplicitamente la classe, attraverso la notazione *nome_padre.metodo()*. La funzione ***super()*** richiamata all'interno di una classe fornisce il nome della classe padre, pertanto nel nostro esempio è stata utilizzata per rendere più elegante e parametrico il codice.\n",
        "\n",
        "Nel nostro caso abbiamo specializzato l'inizializzatore, richiamando dapprima l'inizializzatore della classe padre per svolgere il lavoro comune e successivamente abbiamo aggiunto l'istruzione specifica per creare l'attributo *docenze* che non esiste nella classe *Persona* in quanto specifico della classe *Docente*.\n",
        "\n",
        "Anche il metodo *stampaScheda()* è stato ridefinito aggiungendo le istruzioni specifiche della classe *Docente* e richiamando il metodo della *superclasse* per eseguire la parte di codice che è stata generalizzata.\n",
        "\n",
        "L'esempio che segue conferma il funzionamento del codice reingegnerizzato tramite la generalizzazione."
      ]
    },
    {
      "metadata": {
        "id": "L8umVe6lzK4k",
        "colab_type": "code",
        "colab": {}
      },
      "cell_type": "code",
      "source": [
        "prof1 = Docente(\"Stefano\",\"Capezzone\")\n",
        "prof2 = Docente(\"Rosita\",\"Esposito\")\n",
        "\n",
        "prof1.assegnaCorso(\"Coding in Python\")\n",
        "prof1.assegnaCorso(\"Arduino Base\")\n",
        "prof1.assegnaCorso(\"Quaderni di Elettronica\")\n",
        "prof2.assegnaCorso(\"Resine e Stampi\")\n",
        "prof2.assegnaCorso(\"Stampa 3D\")\n",
        "prof2.assegnaCorso(\"Quaderni di Elettronica\")\n",
        "\n",
        "prof1.stampaScheda()\n",
        "prof2.stampaScheda()\n",
        "\n",
        "\n",
        "\n"
      ],
      "execution_count": 0,
      "outputs": []
    },
    {
      "metadata": {
        "id": "EbuDNCCjz14h",
        "colab_type": "text"
      },
      "cell_type": "markdown",
      "source": [
        "A questo punto possiamo definire con lo stesso meccanismo la classe Studente e verificare che tutto funzioni come prima.\n"
      ]
    },
    {
      "metadata": {
        "id": "cVnIpDds0ENN",
        "colab_type": "code",
        "colab": {}
      },
      "cell_type": "code",
      "source": [
        "class Studente(Persona):                \n",
        "    def __init__(self,nome,cognome):\n",
        "        super().__init__(nome,cognome)  \n",
        "        self.iscrizioni = []            \n",
        "\n",
        "    def stampaScheda(self):\n",
        "        print(\"\\n     Scheda anagrafica studente\\n\")\n",
        "        super().stampaScheda()\n",
        "        if len(self.iscrizioni) == 0:\n",
        "            print(\"Non risultano iscrizioni a corsi\")\n",
        "        else:\n",
        "            print(\"Iscrizione ai corsi:\")\n",
        "            for corso in self.iscrizioni:\n",
        "                print(\"\\t\"+corso)\n",
        "\n",
        "    def iscriviCorso(self,corso):\n",
        "        self.iscrizioni.append(corso)\n",
        "\n",
        "    def cancellaCorso(self, corso):\n",
        "        self.iscrizioni.remove(corso)\n",
        "        \n",
        "       \n",
        "        \n",
        "# Creo due oggetti della classe studente inizializzando gli attributi\n",
        "\n",
        "stud1 = Studente(\"Mario\",\"Rossi\")      \n",
        "stud2 = Studente(\"Luca\",\"Bianchi\")   \n",
        "\n",
        "# Assegno i corsi\n",
        "\n",
        "stud1.iscriviCorso(\"Coding in Python\")\n",
        "stud1.iscriviCorso(\"Arduino Base\")\n",
        "stud1.iscriviCorso(\"Quaderni di Elettronica\")\n",
        "stud1.iscriviCorso(\"Resine e Stampi\")\n",
        "stud2.iscriviCorso(\"Coding in Python\")\n",
        "stud2.iscriviCorso(\"Stampa 3D\")\n",
        "stud2.iscriviCorso(\"Quaderni di Elettronica\")\n",
        "\n",
        "# Stampo le schede studenti\n",
        "\n",
        "stud1.stampaScheda()\n",
        "stud2.stampaScheda()\n",
        "\n"
      ],
      "execution_count": 0,
      "outputs": []
    },
    {
      "metadata": {
        "id": "uVPBL74l0pcN",
        "colab_type": "text"
      },
      "cell_type": "markdown",
      "source": [
        "Il codice risultante non è più ridondante ed è strutturato in maniera più adatta a favorire manutenzione e riuso.\n",
        "\n",
        "All'inizio applicare meccanismo di modellazione come quelli indicati può sembrare più costoso e per un piccolo esempio come quello svolto effettivamente può esserlo, tuttavia al crescere della complessità del progetto, l'economia che ne deriva può essere importante."
      ]
    },
    {
      "metadata": {
        "id": "-HUOpbck2Ayn",
        "colab_type": "text"
      },
      "cell_type": "markdown",
      "source": [
        "# Definizione teorica di Linguaggio Object Oriented\n",
        "\n",
        "Avremmo potuto iniziare questa lezione in modo più accademico, con la definizione formale di Linguaggio di Orientato agli Oggetti (Object Oriented Language):\n",
        "\n",
        "Un Linguaggio di programmazione si definisce orientato agli oggetti quando  permette di implementare, usando la sintassi nativa del linguaggio, i seguenti tre meccanismi:\n",
        "\n",
        "\n",
        "*   Incapsulamento\n",
        "*   Ereditarietà\n",
        "*   Polimorfismo\n",
        "\n",
        "L'**Incapsulamento** e l'**Ereditarietà** li abbiamo visti in azione negli esempi e li abbiamo citati per nome quando li abbiamo incontrati.\n",
        "\n",
        "In realtà abbiamo incontrato anche il **Polimorfismo**.\n",
        "\n",
        "Osservate il metodo ***stampaScheda()***.\n",
        "\n",
        "Tale metodo è presente sia nella classe Studente che in quella Docente, tuttavia, pur avendo lo stesso nome e le stesse modalità di invocazione fornisce comportamenti diversi.\n",
        "\n",
        "Ecco, questo è il **Polimorfismo**!\n",
        "\n",
        "Se volete un altro esempio di polimorfismo, osservate come nel codice che segue, il metodo *failverso()* richiamato su oggetti di tipi, cioè classi, diverse restituisce valori diversi. \n",
        "\n",
        "\n",
        "\n"
      ]
    },
    {
      "metadata": {
        "id": "hHGibVJ66GJB",
        "colab_type": "code",
        "colab": {}
      },
      "cell_type": "code",
      "source": [
        "class Animale:\n",
        "    def __init__(self, nome):\n",
        "        self.nome = nome\n",
        "        \n",
        "class Gatto(Animale):\n",
        "   def failverso(self):\n",
        "       return 'Miao'\n",
        "      \n",
        "class Cane(Animale):\n",
        "   def failverso(self):\n",
        "       return 'Bau'\n",
        "      \n",
        "a = Gatto('Fuffi')\n",
        "b = Gatto('Ciccio')\n",
        "c = Cane('Fido')\n",
        "\n",
        "for animale in [a, b, c]:\n",
        "    print (animale.nome + ': ' + animale.failverso())"
      ],
      "execution_count": 0,
      "outputs": []
    }
  ]
}